{
 "cells": [
  {
   "cell_type": "markdown",
   "metadata": {},
   "source": [
    "# Logistic Regression"
   ]
  },
  {
   "cell_type": "code",
   "execution_count": 63,
   "metadata": {
    "collapsed": false
   },
   "outputs": [],
   "source": [
    "import LogisticRegression as LR"
   ]
  },
  {
   "cell_type": "markdown",
   "metadata": {},
   "source": [
    "## Load in Wine Dataset"
   ]
  },
  {
   "cell_type": "code",
   "execution_count": 86,
   "metadata": {
    "collapsed": false,
    "scrolled": false
   },
   "outputs": [
    {
     "data": {
      "text/html": [
       "<div>\n",
       "<table border=\"1\" class=\"dataframe\">\n",
       "  <thead>\n",
       "    <tr style=\"text-align: right;\">\n",
       "      <th></th>\n",
       "      <th>class</th>\n",
       "      <th>Alcohol</th>\n",
       "      <th>Malic acid</th>\n",
       "      <th>Ash</th>\n",
       "      <th>Alcalinity of ash</th>\n",
       "      <th>Magnesium</th>\n",
       "      <th>Total phenols</th>\n",
       "      <th>Flavanoids</th>\n",
       "      <th>Nonflavanoid phenols</th>\n",
       "      <th>Proanthocyanins</th>\n",
       "      <th>Color intensity</th>\n",
       "      <th>Hue</th>\n",
       "      <th>OD280/OD315 of diluted wines</th>\n",
       "      <th>Proline</th>\n",
       "    </tr>\n",
       "  </thead>\n",
       "  <tbody>\n",
       "    <tr>\n",
       "      <th>0</th>\n",
       "      <td>1</td>\n",
       "      <td>14.23</td>\n",
       "      <td>1.71</td>\n",
       "      <td>2.43</td>\n",
       "      <td>15.6</td>\n",
       "      <td>127</td>\n",
       "      <td>2.80</td>\n",
       "      <td>3.06</td>\n",
       "      <td>0.28</td>\n",
       "      <td>2.29</td>\n",
       "      <td>5.64</td>\n",
       "      <td>1.04</td>\n",
       "      <td>3.92</td>\n",
       "      <td>1065</td>\n",
       "    </tr>\n",
       "    <tr>\n",
       "      <th>1</th>\n",
       "      <td>1</td>\n",
       "      <td>13.20</td>\n",
       "      <td>1.78</td>\n",
       "      <td>2.14</td>\n",
       "      <td>11.2</td>\n",
       "      <td>100</td>\n",
       "      <td>2.65</td>\n",
       "      <td>2.76</td>\n",
       "      <td>0.26</td>\n",
       "      <td>1.28</td>\n",
       "      <td>4.38</td>\n",
       "      <td>1.05</td>\n",
       "      <td>3.40</td>\n",
       "      <td>1050</td>\n",
       "    </tr>\n",
       "    <tr>\n",
       "      <th>2</th>\n",
       "      <td>1</td>\n",
       "      <td>13.16</td>\n",
       "      <td>2.36</td>\n",
       "      <td>2.67</td>\n",
       "      <td>18.6</td>\n",
       "      <td>101</td>\n",
       "      <td>2.80</td>\n",
       "      <td>3.24</td>\n",
       "      <td>0.30</td>\n",
       "      <td>2.81</td>\n",
       "      <td>5.68</td>\n",
       "      <td>1.03</td>\n",
       "      <td>3.17</td>\n",
       "      <td>1185</td>\n",
       "    </tr>\n",
       "    <tr>\n",
       "      <th>3</th>\n",
       "      <td>1</td>\n",
       "      <td>14.37</td>\n",
       "      <td>1.95</td>\n",
       "      <td>2.50</td>\n",
       "      <td>16.8</td>\n",
       "      <td>113</td>\n",
       "      <td>3.85</td>\n",
       "      <td>3.49</td>\n",
       "      <td>0.24</td>\n",
       "      <td>2.18</td>\n",
       "      <td>7.80</td>\n",
       "      <td>0.86</td>\n",
       "      <td>3.45</td>\n",
       "      <td>1480</td>\n",
       "    </tr>\n",
       "    <tr>\n",
       "      <th>4</th>\n",
       "      <td>1</td>\n",
       "      <td>13.24</td>\n",
       "      <td>2.59</td>\n",
       "      <td>2.87</td>\n",
       "      <td>21.0</td>\n",
       "      <td>118</td>\n",
       "      <td>2.80</td>\n",
       "      <td>2.69</td>\n",
       "      <td>0.39</td>\n",
       "      <td>1.82</td>\n",
       "      <td>4.32</td>\n",
       "      <td>1.04</td>\n",
       "      <td>2.93</td>\n",
       "      <td>735</td>\n",
       "    </tr>\n",
       "  </tbody>\n",
       "</table>\n",
       "</div>"
      ],
      "text/plain": [
       "   class  Alcohol  Malic acid   Ash  Alcalinity of ash  Magnesium  \\\n",
       "0      1    14.23        1.71  2.43               15.6        127   \n",
       "1      1    13.20        1.78  2.14               11.2        100   \n",
       "2      1    13.16        2.36  2.67               18.6        101   \n",
       "3      1    14.37        1.95  2.50               16.8        113   \n",
       "4      1    13.24        2.59  2.87               21.0        118   \n",
       "\n",
       "   Total phenols  Flavanoids  Nonflavanoid phenols  Proanthocyanins  \\\n",
       "0           2.80        3.06                  0.28             2.29   \n",
       "1           2.65        2.76                  0.26             1.28   \n",
       "2           2.80        3.24                  0.30             2.81   \n",
       "3           3.85        3.49                  0.24             2.18   \n",
       "4           2.80        2.69                  0.39             1.82   \n",
       "\n",
       "   Color intensity   Hue  OD280/OD315 of diluted wines  Proline  \n",
       "0             5.64  1.04                          3.92     1065  \n",
       "1             4.38  1.05                          3.40     1050  \n",
       "2             5.68  1.03                          3.17     1185  \n",
       "3             7.80  0.86                          3.45     1480  \n",
       "4             4.32  1.04                          2.93      735  "
      ]
     },
     "execution_count": 86,
     "metadata": {},
     "output_type": "execute_result"
    }
   ],
   "source": [
    "import pandas as pd\n",
    "import GenerativeCollection as gc\n",
    "\n",
    "data = pd.read_csv(\"wine.csv\", header=None)\n",
    "data.columns = ['class', 'Alcohol', 'Malic acid', 'Ash', 'Alcalinity of ash', 'Magnesium', 'Total phenols', \\\n",
    "                'Flavanoids', 'Nonflavanoid phenols', 'Proanthocyanins', 'Color intensity', \\\n",
    "                'Hue', 'OD280/OD315 of diluted wines', 'Proline']\n",
    "data.head()"
   ]
  },
  {
   "cell_type": "markdown",
   "metadata": {},
   "source": [
    "## Logistic Regression for 2 classes with polynomial transformation"
   ]
  },
  {
   "cell_type": "code",
   "execution_count": 90,
   "metadata": {
    "collapsed": false,
    "scrolled": true
   },
   "outputs": [
    {
     "name": "stderr",
     "output_type": "stream",
     "text": [
      "/home/hanqiao/anaconda2/lib/python2.7/site-packages/ipykernel/__main__.py:2: SettingWithCopyWarning: \n",
      "A value is trying to be set on a copy of a slice from a DataFrame.\n",
      "Try using .loc[row_indexer,col_indexer] = value instead\n",
      "\n",
      "See the caveats in the documentation: http://pandas.pydata.org/pandas-docs/stable/indexing.html#indexing-view-versus-copy\n",
      "  from ipykernel import kernelapp as app\n",
      "/home/hanqiao/anaconda2/lib/python2.7/site-packages/ipykernel/__main__.py:3: SettingWithCopyWarning: \n",
      "A value is trying to be set on a copy of a slice from a DataFrame.\n",
      "Try using .loc[row_indexer,col_indexer] = value instead\n",
      "\n",
      "See the caveats in the documentation: http://pandas.pydata.org/pandas-docs/stable/indexing.html#indexing-view-versus-copy\n",
      "  app.launch_new_instance()\n",
      "/home/hanqiao/anaconda2/lib/python2.7/site-packages/ipykernel/__main__.py:4: SettingWithCopyWarning: \n",
      "A value is trying to be set on a copy of a slice from a DataFrame.\n",
      "Try using .loc[row_indexer,col_indexer] = value instead\n",
      "\n",
      "See the caveats in the documentation: http://pandas.pydata.org/pandas-docs/stable/indexing.html#indexing-view-versus-copy\n"
     ]
    }
   ],
   "source": [
    "bin_data = data[(data['class'] == 1) | (data['class'] == 2)]\n",
    "bin_data['Ash_sq'] = bin_data['Ash'] ** 2\n",
    "bin_data['Alcohol_sq'] = bin_data['Alcohol'] ** 2\n",
    "bin_data['Magnesium_sq'] = bin_data['Magnesium'] ** 2"
   ]
  },
  {
   "cell_type": "markdown",
   "metadata": {},
   "source": [
    "## Fit a Logistic Regression classifier on polynomial transformed dataset"
   ]
  },
  {
   "cell_type": "code",
   "execution_count": 91,
   "metadata": {
    "collapsed": false
   },
   "outputs": [],
   "source": [
    "features = bin_data.columns.tolist()\n",
    "features.pop(0)\n",
    "lr = LR.LogisticRegression(bin_data, features, ['class'])"
   ]
  },
  {
   "cell_type": "code",
   "execution_count": 103,
   "metadata": {
    "collapsed": false,
    "scrolled": false
   },
   "outputs": [
    {
     "name": "stdout",
     "output_type": "stream",
     "text": [
      "Classes: [1 2]\n",
      "Accuracy: 0.969230769231\n",
      "Recall: [0.9661016949152542, 0.971830985915493]\n",
      "Precision: [0.9661016949152542, 0.971830985915493]\n",
      "F1 score: [0.9661016949152542, 0.971830985915493]\n"
     ]
    },
    {
     "data": {
      "text/plain": [
       "[0.9661016949152542, 0.971830985915493]"
      ]
     },
     "execution_count": 103,
     "metadata": {},
     "output_type": "execute_result"
    }
   ],
   "source": [
    "lr.fit(initial_coefficients=np.zeros(17), step_size=5e-3, l2_penalty=0.2, max_iter=1000)\n",
    "lr.evaluate(bin_data, features, ['class'])"
   ]
  },
  {
   "cell_type": "markdown",
   "metadata": {},
   "source": [
    "## Measure model performance using 5_fold cross_validation"
   ]
  },
  {
   "cell_type": "code",
   "execution_count": 104,
   "metadata": {
    "collapsed": false
   },
   "outputs": [
    {
     "name": "stdout",
     "output_type": "stream",
     "text": [
      "Classes: [1 2]\n",
      "Accuracy: 0.851851851852\n",
      "Recall: [1.0, 0.7333333333333333]\n",
      "Precision: [0.75, 1.0]\n",
      "F1 score: [0.8571428571428571, 0.846153846153846]\n",
      "Classes: [1 2]\n",
      "Accuracy: 1.0\n",
      "Recall: [1.0, 1.0]\n",
      "Precision: [1.0, 1.0]\n",
      "F1 score: [1.0, 1.0]\n",
      "Classes: [1 2]\n",
      "Accuracy: 0.961538461538\n",
      "Recall: [0.9166666666666666, 1.0]\n",
      "Precision: [1.0, 0.9333333333333333]\n",
      "F1 score: [0.9565217391304348, 0.9655172413793104]\n",
      "Classes: [1 2]\n",
      "Accuracy: 1.0\n",
      "Recall: [1.0, 1.0]\n",
      "Precision: [1.0, 1.0]\n",
      "F1 score: [1.0, 1.0]\n",
      "Classes: [1 2]\n",
      "Accuracy: 0.96\n",
      "Recall: [1.0, 0.9285714285714286]\n",
      "Precision: [0.9166666666666666, 1.0]\n",
      "F1 score: [0.9565217391304348, 0.962962962962963]\n",
      "[[0.8571428571428571, 0.846153846153846], [1.0, 1.0], [0.9565217391304348, 0.9655172413793104], [1.0, 1.0], [0.9565217391304348, 0.962962962962963]]\n",
      "Average f_scores:\n",
      "[ 0.95403727  0.95492681]\n"
     ]
    }
   ],
   "source": [
    "from sklearn.cross_validation import StratifiedKFold\n",
    "label = bin_data['class']\n",
    "f_scores = []\n",
    "skf = StratifiedKFold(label, 5)\n",
    "for train, test in skf:\n",
    "    train_data = bin_data.iloc[train]\n",
    "    test_data = bin_data.iloc[test]\n",
    "    model = LR.LogisticRegression(train_data, target=['class'], features=features)\n",
    "    model.fit(initial_coefficients=np.zeros(17), step_size=5e-3, l2_penalty=0.2, max_iter=1000)\n",
    "    result = model.evaluate(test_data, features, target=['class'])\n",
    "    f_scores.append(result)\n",
    "\n",
    "print f_scores\n",
    "print \"Average f_scores:\"\n",
    "print np.array(f_scores).mean(axis=0)"
   ]
  },
  {
   "cell_type": "markdown",
   "metadata": {},
   "source": [
    "## Logistic Regression for K class discrimination"
   ]
  },
  {
   "cell_type": "code",
   "execution_count": 36,
   "metadata": {
    "collapsed": false
   },
   "outputs": [
    {
     "data": {
      "text/plain": [
       "(178, 15)"
      ]
     },
     "execution_count": 36,
     "metadata": {},
     "output_type": "execute_result"
    }
   ],
   "source": [
    "features = data.columns.tolist()\n",
    "features.pop(0)\n",
    "lr = LR.LogisticRegression(data, features, ['class'])\n",
    "lr.feature_m.shape"
   ]
  },
  {
   "cell_type": "code",
   "execution_count": 37,
   "metadata": {
    "collapsed": false,
    "scrolled": true
   },
   "outputs": [
    {
     "data": {
      "text/plain": [
       "<LogisticRegression.LogisticRegression at 0x7fe5bc6e3a10>"
      ]
     },
     "execution_count": 37,
     "metadata": {},
     "output_type": "execute_result"
    }
   ],
   "source": [
    "lr.fit(initial_coefficients=np.zeros(15), step_size=5e-3, l2_penalty=0, max_iter=1000)"
   ]
  },
  {
   "cell_type": "code",
   "execution_count": 38,
   "metadata": {
    "collapsed": false,
    "scrolled": true
   },
   "outputs": [
    {
     "data": {
      "text/plain": [
       "array([1, 1, 1, 1, 2, 1, 1, 1, 1, 1, 1, 1, 1, 1, 1, 1, 1, 1, 1, 1, 1, 1, 1,\n",
       "       1, 1, 2, 1, 1, 1, 1, 1, 1, 1, 1, 1, 1, 1, 1, 1, 1, 1, 1, 1, 1, 1, 1,\n",
       "       1, 1, 1, 1, 1, 1, 1, 1, 1, 1, 1, 1, 1, 2, 2, 2, 2, 2, 2, 2, 2, 2, 2,\n",
       "       2, 2, 2, 2, 2, 2, 2, 2, 2, 2, 2, 2, 2, 2, 2, 2, 2, 2, 2, 2, 2, 2, 2,\n",
       "       2, 2, 2, 2, 2, 2, 2, 2, 2, 2, 2, 2, 2, 2, 2, 2, 2, 2, 2, 2, 2, 2, 2,\n",
       "       2, 2, 2, 3, 2, 2, 2, 2, 2, 2, 2, 2, 2, 2, 2, 3, 3, 3, 3, 3, 3, 3, 3,\n",
       "       3, 3, 3, 3, 3, 3, 3, 3, 3, 3, 3, 3, 3, 3, 3, 3, 3, 3, 3, 3, 3, 3, 3,\n",
       "       3, 3, 3, 3, 3, 3, 3, 3, 3, 3, 3, 3, 3, 3, 3, 3, 3])"
      ]
     },
     "execution_count": 38,
     "metadata": {},
     "output_type": "execute_result"
    }
   ],
   "source": [
    "lr.predict(data, features)"
   ]
  },
  {
   "cell_type": "markdown",
   "metadata": {},
   "source": [
    "### Training Error with l2_penalty = 0"
   ]
  },
  {
   "cell_type": "code",
   "execution_count": 39,
   "metadata": {
    "collapsed": false,
    "scrolled": false
   },
   "outputs": [
    {
     "name": "stdout",
     "output_type": "stream",
     "text": [
      "Classes: [1 2 3]\n",
      "Accuracy: 0.983146067416\n",
      "Recall: [0.9661016949152542, 0.9859154929577465, 1.0]\n",
      "Precision: [1.0, 0.9722222222222222, 0.9795918367346939]\n",
      "F1 score: [0.9827586206896551, 0.979020979020979, 0.9896907216494846]\n"
     ]
    },
    {
     "data": {
      "text/plain": [
       "[0.9827586206896551, 0.979020979020979, 0.9896907216494846]"
      ]
     },
     "execution_count": 39,
     "metadata": {},
     "output_type": "execute_result"
    }
   ],
   "source": [
    "lr.evaluate(data, features, ['class'])"
   ]
  },
  {
   "cell_type": "markdown",
   "metadata": {},
   "source": [
    "## 5 fold Cross Validation to measure model performance"
   ]
  },
  {
   "cell_type": "code",
   "execution_count": 41,
   "metadata": {
    "collapsed": false,
    "scrolled": true
   },
   "outputs": [
    {
     "name": "stdout",
     "output_type": "stream",
     "text": [
      "Classes: [1 2 3]\n",
      "Accuracy: 0.891891891892\n",
      "Recall: [1.0, 0.7333333333333333, 1.0]\n",
      "Precision: [0.8, 1.0, 0.9090909090909091]\n",
      "F1 score: [0.888888888888889, 0.846153846153846, 0.9523809523809523]\n",
      "Classes: [1 2 3]\n",
      "Accuracy: 0.944444444444\n",
      "Recall: [1.0, 0.8571428571428571, 1.0]\n",
      "Precision: [0.9230769230769231, 1.0, 0.9090909090909091]\n",
      "F1 score: [0.9600000000000001, 0.923076923076923, 0.9523809523809523]\n",
      "Classes: [1 2 3]\n",
      "Accuracy: 0.944444444444\n",
      "Recall: [0.8333333333333334, 1.0, 1.0]\n",
      "Precision: [1.0, 0.875, 1.0]\n",
      "F1 score: [0.9090909090909091, 0.9333333333333333, 1.0]\n",
      "Classes: [1 2 3]\n",
      "Accuracy: 1.0\n",
      "Recall: [1.0, 1.0, 1.0]\n",
      "Precision: [1.0, 1.0, 1.0]\n",
      "F1 score: [1.0, 1.0, 1.0]\n",
      "Classes: [1 2 3]\n",
      "Accuracy: 0.970588235294\n",
      "Recall: [1.0, 0.9285714285714286, 1.0]\n",
      "Precision: [1.0, 1.0, 0.9]\n",
      "F1 score: [1.0, 0.962962962962963, 0.9473684210526316]\n",
      "[[0.888888888888889, 0.846153846153846, 0.9523809523809523], [0.9600000000000001, 0.923076923076923, 0.9523809523809523], [0.9090909090909091, 0.9333333333333333, 1.0], [1.0, 1.0, 1.0], [1.0, 0.962962962962963, 0.9473684210526316]]\n",
      "Average f_scores:\n",
      "[ 0.95159596  0.93310541  0.97042607]\n"
     ]
    }
   ],
   "source": [
    "from sklearn.cross_validation import StratifiedKFold\n",
    "label = data['class']\n",
    "f_scores = []\n",
    "skf = StratifiedKFold(label, 5)\n",
    "for train, test in skf:\n",
    "    train_data = data.iloc[train]\n",
    "    test_data = data.iloc[test]\n",
    "    model = LR.LogisticRegression(train_data, target=['class'], features=features)\n",
    "    model.fit(initial_coefficients=np.zeros(15), step_size=5e-3, l2_penalty=0, max_iter=1000)\n",
    "    result = model.evaluate(test_data, features, target=['class'])\n",
    "    f_scores.append(result)\n",
    "\n",
    "print f_scores\n",
    "print \"Average f_scores:\"\n",
    "print np.array(f_scores).mean(axis=0)"
   ]
  },
  {
   "cell_type": "markdown",
   "metadata": {},
   "source": [
    "# Multilayer Perceptron "
   ]
  },
  {
   "cell_type": "code",
   "execution_count": 1,
   "metadata": {
    "collapsed": false,
    "scrolled": true
   },
   "outputs": [
    {
     "name": "stdout",
     "output_type": "stream",
     "text": [
      "(70000, 784)\n",
      "(70000,)\n",
      "[ 0.  1.  2.  3.  4.  5.  6.  7.  8.  9.]\n"
     ]
    }
   ],
   "source": [
    "from sklearn.datasets import fetch_mldata\n",
    "import numpy as np\n",
    "import os\n",
    "from pylab import *\n",
    "\n",
    "mnist = fetch_mldata('MNIST original')\n",
    "print mnist.data.shape\n",
    "print mnist.target.shape\n",
    "print np.unique(mnist.target)"
   ]
  },
  {
   "cell_type": "markdown",
   "metadata": {},
   "source": [
    "## Select 3 classes and encoding labels that are used to fit a MLP classifier"
   ]
  },
  {
   "cell_type": "code",
   "execution_count": 2,
   "metadata": {
    "collapsed": false,
    "scrolled": true
   },
   "outputs": [
    {
     "name": "stdout",
     "output_type": "stream",
     "text": [
      "(21770, 784)\n",
      "[ 0.  1.  2.]\n"
     ]
    }
   ],
   "source": [
    "from sklearn.utils import shuffle\n",
    "\n",
    "def oneHotEncoding(y):\n",
    "    classes = np.unique(y)\n",
    "    result = np.zeros((len(y), len(classes)))\n",
    "    for i in range(len(y)):\n",
    "        result[i][int(y[i])] = 1.0\n",
    "    return result\n",
    "\n",
    "X, y = mnist.data / 255.0, mnist.target\n",
    "X = X[y <= 2]\n",
    "y = y[y <= 2]\n",
    "print X.shape\n",
    "print np.unique(y)\n",
    "y = oneHotEncoding(y)\n",
    "X, y = shuffle(X, y, random_state=0)\n",
    "X_train, X_test = X[:17000], X[17000:]\n",
    "y_train, y_test = y[:17000], y[17000:]"
   ]
  },
  {
   "cell_type": "markdown",
   "metadata": {},
   "source": [
    "## Fit a MLP classifier "
   ]
  },
  {
   "cell_type": "code",
   "execution_count": 3,
   "metadata": {
    "collapsed": false
   },
   "outputs": [],
   "source": [
    "import MLP as m\n",
    "mlp = m.MLP(X_train, y_train, learning_rate=1e-3, epochs=16000, batch_size=150, n_hidden=256)"
   ]
  },
  {
   "cell_type": "code",
   "execution_count": 4,
   "metadata": {
    "collapsed": false,
    "scrolled": false
   },
   "outputs": [
    {
     "name": "stdout",
     "output_type": "stream",
     "text": [
      "Epoch: 1 \n",
      "Cost = 4.31901\n",
      "Epoch: 2001 \n",
      "Cost = 0.902357\n",
      "Epoch: 4001 \n",
      "Cost = 0.566039\n",
      "Epoch: 6001 \n",
      "Cost = 0.597935\n",
      "Epoch: 8001 \n",
      "Cost = 0.565437\n",
      "Epoch: 10001 \n",
      "Cost = 0.429614\n",
      "Epoch: 12001 \n",
      "Cost = 0.270421\n",
      "Epoch: 14001 \n",
      "Cost = 0.172502\n",
      "Optimization Finished!\n",
      "Training Accuracy after 16000 epochs:  0.929412\n",
      "Testing Accuracy after 16000 epochs:  0.931656\n"
     ]
    }
   ],
   "source": [
    "mlp.fit(X_test, y_test)"
   ]
  },
  {
   "cell_type": "markdown",
   "metadata": {},
   "source": [
    "## Evaluate the Performance as a function of # of units in hidden layer"
   ]
  },
  {
   "cell_type": "code",
   "execution_count": 11,
   "metadata": {
    "collapsed": false
   },
   "outputs": [
    {
     "name": "stdout",
     "output_type": "stream",
     "text": [
      "Optimization Finished!\n",
      "Training Accuracy after 10000 epochs:  0.77\n",
      "Testing Accuracy after 10000 epochs:  0.771698\n",
      "Optimization Finished!\n",
      "Training Accuracy after 10000 epochs:  0.576882\n",
      "Testing Accuracy after 10000 epochs:  0.573166\n",
      "Optimization Finished!\n",
      "Training Accuracy after 10000 epochs:  0.854588\n",
      "Testing Accuracy after 10000 epochs:  0.861635\n",
      "Optimization Finished!\n",
      "Training Accuracy after 10000 epochs:  0.806706\n",
      "Testing Accuracy after 10000 epochs:  0.811321\n",
      "Optimization Finished!\n",
      "Training Accuracy after 10000 epochs:  0.850941\n",
      "Testing Accuracy after 10000 epochs:  0.84675\n",
      "Optimization Finished!\n",
      "Training Accuracy after 10000 epochs:  0.854412\n",
      "Testing Accuracy after 10000 epochs:  0.859119\n",
      "Optimization Finished!\n",
      "Training Accuracy after 10000 epochs:  0.872824\n",
      "Testing Accuracy after 10000 epochs:  0.869392\n",
      "Optimization Finished!\n",
      "Training Accuracy after 10000 epochs:  0.901\n",
      "Testing Accuracy after 10000 epochs:  0.898323\n",
      "Optimization Finished!\n",
      "Training Accuracy after 10000 epochs:  0.895765\n",
      "Testing Accuracy after 10000 epochs:  0.896017\n",
      "Optimization Finished!\n",
      "Training Accuracy after 10000 epochs:  0.892235\n",
      "Testing Accuracy after 10000 epochs:  0.898952\n",
      "Optimization Finished!\n",
      "Training Accuracy after 10000 epochs:  0.913824\n",
      "Testing Accuracy after 10000 epochs:  0.917191\n",
      "Optimization Finished!\n",
      "Training Accuracy after 10000 epochs:  0.908118\n",
      "Testing Accuracy after 10000 epochs:  0.902725\n",
      "Optimization Finished!\n",
      "Training Accuracy after 10000 epochs:  0.912176\n",
      "Testing Accuracy after 10000 epochs:  0.909224\n",
      "Optimization Finished!\n",
      "Training Accuracy after 10000 epochs:  0.934882\n",
      "Testing Accuracy after 10000 epochs:  0.936688\n"
     ]
    }
   ],
   "source": [
    "from matplotlib import pyplot as plt\n",
    "%matplotlib inline\n",
    "\n",
    "acc = []\n",
    "units = [10, 20, 50, 90, 140, 200, 250, 300, 350, 400, 500, 600, 800, 1000]\n",
    "for unit in units:\n",
    "    model = m.MLP(X_train, y_train, learning_rate=1e-3, epochs=10000, batch_size=150, n_hidden=unit)\n",
    "    model.fit(X_test, y_test, verbose=False)\n",
    "    acc.append(model.test_accuracy)"
   ]
  },
  {
   "cell_type": "code",
   "execution_count": 17,
   "metadata": {
    "collapsed": false,
    "scrolled": true
   },
   "outputs": [
    {
     "data": {
      "image/png": "[encoded data removed]",
      "text/plain": [
       "<matplotlib.figure.Figure at 0x7ff65350fcd0>"
      ]
     },
     "metadata": {},
     "output_type": "display_data"
    }
   ],
   "source": [
    "plt.plot(units[2:], acc[2:], 'bo-')\n",
    "plt.title(\"# of units in hidden layer vs performance\")\n",
    "plt.xlabel(\"# of units in hidden layer\")\n",
    "plt.ylabel(\"Testing accuracy\")\n",
    "plt.show()"
   ]
  },
  {
   "cell_type": "markdown",
   "metadata": {},
   "source": [
    "### From plot above, we can observe that increasing # of units in hidden layer will increase our model performance in geneal. The curve is not smooth and model performance will vary a lot given a small range of # of units in hidden layer."
   ]
  },
  {
   "cell_type": "markdown",
   "metadata": {},
   "source": [
    "## Evaluate the performance as a function of learning rate"
   ]
  },
  {
   "cell_type": "code",
   "execution_count": 20,
   "metadata": {
    "collapsed": false,
    "scrolled": true
   },
   "outputs": [
    {
     "name": "stdout",
     "output_type": "stream",
     "text": [
      "Optimization Finished!\n",
      "Training Accuracy after 10000 epochs:  0.343235\n",
      "Testing Accuracy after 10000 epochs:  0.354927\n",
      "Optimization Finished!\n",
      "Training Accuracy after 10000 epochs:  0.367235\n",
      "Testing Accuracy after 10000 epochs:  0.375262\n",
      "Optimization Finished!\n",
      "Training Accuracy after 10000 epochs:  0.313353\n",
      "Testing Accuracy after 10000 epochs:  0.331237\n",
      "Optimization Finished!\n",
      "Training Accuracy after 10000 epochs:  0.816412\n",
      "Testing Accuracy after 10000 epochs:  0.8174\n",
      "Optimization Finished!\n",
      "Training Accuracy after 10000 epochs:  0.533588\n",
      "Testing Accuracy after 10000 epochs:  0.538574\n",
      "Optimization Finished!\n",
      "Training Accuracy after 10000 epochs:  0.956176\n",
      "Testing Accuracy after 10000 epochs:  0.953878\n",
      "Optimization Finished!\n",
      "Training Accuracy after 10000 epochs:  0.875941\n",
      "Testing Accuracy after 10000 epochs:  0.874843\n",
      "Optimization Finished!\n",
      "Training Accuracy after 10000 epochs:  0.987824\n",
      "Testing Accuracy after 10000 epochs:  0.983648\n",
      "Optimization Finished!\n",
      "Training Accuracy after 10000 epochs:  0.971529\n",
      "Testing Accuracy after 10000 epochs:  0.96499\n",
      "Optimization Finished!\n",
      "Training Accuracy after 10000 epochs:  0.999588\n",
      "Testing Accuracy after 10000 epochs:  0.989518\n",
      "Optimization Finished!\n",
      "Training Accuracy after 10000 epochs:  0.992235\n",
      "Testing Accuracy after 10000 epochs:  0.985954\n"
     ]
    }
   ],
   "source": [
    "acc_learning = []\n",
    "rates = [1e-6, 5e-5,1e-5, 5e-4, 1e-4, 5e-3, 1e-3, 5e-2, 1e-2, 5e-1, 1e-1]\n",
    "for rate in rates:\n",
    "    model = m.MLP(X_train, y_train, learning_rate=rate, epochs=10000, batch_size=150, n_hidden=250)\n",
    "    model.fit(X_test, y_test, verbose=False)\n",
    "    acc_learning.append(model.test_accuracy)"
   ]
  },
  {
   "cell_type": "code",
   "execution_count": 29,
   "metadata": {
    "collapsed": false,
    "scrolled": true
   },
   "outputs": [
    {
     "data": {
      "image/png": "[encoded data removed]",
      "text/plain": [
       "<matplotlib.figure.Figure at 0x7ff64b9ccc90>"
      ]
     },
     "metadata": {},
     "output_type": "display_data"
    }
   ],
   "source": [
    "plt.plot(rates, acc_learning, 'bo')\n",
    "plt.title(\"Learning rate vs performance\")\n",
    "plt.xlabel(\"Learning rate\")\n",
    "plt.ylabel(\"Testing accuracy\")\n",
    "plt.show()"
   ]
  },
  {
   "cell_type": "markdown",
   "metadata": {},
   "source": [
    "### We can observe that increasing learning rate increases our model performance in general. If the learning rate is too big, the increasing decreases(gradiane of the curve) wiith increasing of learning rate."
   ]
  },
  {
   "cell_type": "markdown",
   "metadata": {},
   "source": [
    "## Evaluate model perforance as a function of # of epochs"
   ]
  },
  {
   "cell_type": "code",
   "execution_count": 32,
   "metadata": {
    "collapsed": false,
    "scrolled": true
   },
   "outputs": [
    {
     "name": "stdout",
     "output_type": "stream",
     "text": [
      "Optimization Finished!\n",
      "Training Accuracy after 10 epochs:  0.383235\n",
      "Testing Accuracy after 10 epochs:  0.387631\n",
      "Optimization Finished!\n",
      "Training Accuracy after 50 epochs:  0.768824\n",
      "Testing Accuracy after 50 epochs:  0.76478\n",
      "Optimization Finished!\n",
      "Training Accuracy after 100 epochs:  0.898059\n",
      "Testing Accuracy after 100 epochs:  0.904402\n",
      "Optimization Finished!\n",
      "Training Accuracy after 200 epochs:  0.926882\n",
      "Testing Accuracy after 200 epochs:  0.923061\n",
      "Optimization Finished!\n",
      "Training Accuracy after 500 epochs:  0.959\n",
      "Testing Accuracy after 500 epochs:  0.960797\n",
      "Optimization Finished!\n",
      "Training Accuracy after 1000 epochs:  0.972471\n",
      "Testing Accuracy after 1000 epochs:  0.969811\n",
      "Optimization Finished!\n",
      "Training Accuracy after 2000 epochs:  0.979941\n",
      "Testing Accuracy after 2000 epochs:  0.977149\n",
      "Optimization Finished!\n",
      "Training Accuracy after 5000 epochs:  0.988412\n",
      "Testing Accuracy after 5000 epochs:  0.979874\n",
      "Optimization Finished!\n",
      "Training Accuracy after 8000 epochs:  0.991941\n",
      "Testing Accuracy after 8000 epochs:  0.984067\n",
      "Optimization Finished!\n",
      "Training Accuracy after 10000 epochs:  0.993647\n",
      "Testing Accuracy after 10000 epochs:  0.986583\n",
      "Optimization Finished!\n",
      "Training Accuracy after 15000 epochs:  0.995294\n",
      "Testing Accuracy after 15000 epochs:  0.98805\n"
     ]
    }
   ],
   "source": [
    "acc_epoch = []\n",
    "epochs = [10, 50, 100, 200, 500, 1000, 2000, 5000, 8000, 10000, 15000]\n",
    "for epoch in epochs:\n",
    "    model = m.MLP(X_train, y_train, learning_rate=0.1, epochs=epoch, batch_size=150, n_hidden=250)\n",
    "    model.fit(X_test, y_test, verbose=False)\n",
    "    acc_epoch.append(model.test_accuracy)"
   ]
  },
  {
   "cell_type": "code",
   "execution_count": 35,
   "metadata": {
    "collapsed": false
   },
   "outputs": [
    {
     "data": {
      "image/png": "[encoded data removed]",
      "text/plain": [
       "<matplotlib.figure.Figure at 0x7ff6988fb450>"
      ]
     },
     "metadata": {},
     "output_type": "display_data"
    }
   ],
   "source": [
    "plt.plot(epochs, acc_epoch, 'go-')\n",
    "plt.title(\"# of epochs vs performance\")\n",
    "plt.xlabel(\"epochs\")\n",
    "plt.ylabel(\"Testing accuracy\")\n",
    "plt.show()"
   ]
  },
  {
   "cell_type": "markdown",
   "metadata": {},
   "source": [
    "### In genral, model performance increases with more epochs. However when epochs > 2000 the increasing is so small that the advange cannot beat disadvantage of increaing trainning time. Also, we can observe that training and testing accuracy difference increases when epochs is too big, a sign of overfitting. Therefore We choose epochs = 2000."
   ]
  },
  {
   "cell_type": "markdown",
   "metadata": {},
   "source": [
    "## Final parameters we are going to use:\n",
    "\n",
    "1. epochs = 2000\n",
    "2. learning_rate = 0.5\n",
    "3. number of units in hidden layer = 500\n",
    "4. Batch of data in each trainning iteration = 150"
   ]
  },
  {
   "cell_type": "markdown",
   "metadata": {},
   "source": [
    "### Retrain our model selected on the whole training set"
   ]
  },
  {
   "cell_type": "code",
   "execution_count": 60,
   "metadata": {
    "collapsed": true
   },
   "outputs": [],
   "source": [
    "model_final = m.MLP(X_train, y_train, learning_rate=0.5, epochs=2000, batch_size=150, n_hidden=500)"
   ]
  },
  {
   "cell_type": "code",
   "execution_count": 61,
   "metadata": {
    "collapsed": false
   },
   "outputs": [
    {
     "name": "stdout",
     "output_type": "stream",
     "text": [
      "Optimization Finished!\n",
      "Training Accuracy after 2000 epochs:  0.995706\n",
      "Testing Accuracy after 2000 epochs:  0.987841\n"
     ]
    }
   ],
   "source": [
    "model_final.fit(X_test, y_test, verbose=False)"
   ]
  },
  {
   "cell_type": "markdown",
   "metadata": {},
   "source": [
    "## Compare implementation with scikit learn implementation "
   ]
  },
  {
   "cell_type": "code",
   "execution_count": 62,
   "metadata": {
    "collapsed": false,
    "scrolled": true
   },
   "outputs": [
    {
     "name": "stdout",
     "output_type": "stream",
     "text": [
      "Iteration 1, loss = 0.44852394\n",
      "Iteration 2, loss = 0.04120209\n",
      "Iteration 3, loss = 0.02633738\n",
      "Iteration 4, loss = 0.01922401\n",
      "Iteration 5, loss = 0.01305521\n",
      "Iteration 6, loss = 0.01135816\n",
      "Iteration 7, loss = 0.00689262\n",
      "Iteration 8, loss = 0.00337453\n",
      "Iteration 9, loss = 0.00240454\n",
      "Iteration 10, loss = 0.00230408\n",
      "Testing accuracy: 0.994129979036\n"
     ]
    }
   ],
   "source": [
    "from sklearn.neural_network import MLPClassifier\n",
    "\n",
    "mlp = MLPClassifier(hidden_layer_sizes=(500,), max_iter=10, alpha=1e-4,\n",
    "                    algorithm='sgd', verbose=10, tol=1e-4, random_state=1,\n",
    "                    learning_rate_init=.5)\n",
    "mlp.fit(X_train, y_train)\n",
    "print \"Testing accuracy:\", mlp.score(X_test, y_test)"
   ]
  },
  {
   "cell_type": "markdown",
   "metadata": {},
   "source": [
    "### Our own implementation is comparable with the the scikit learn implementation. Only 0.007 testing accuracy difference."
   ]
  }
 ],
 "metadata": {
  "kernelspec": {
   "display_name": "Python 2",
   "language": "python",
   "name": "python2"
  },
  "language_info": {
   "codemirror_mode": {
    "name": "ipython",
    "version": 2
   },
   "file_extension": ".py",
   "mimetype": "text/x-python",
   "name": "python",
   "nbconvert_exporter": "python",
   "pygments_lexer": "ipython2",
   "version": "2.7.11"
  }
 },
 "nbformat": 4,
 "nbformat_minor": 0
}
