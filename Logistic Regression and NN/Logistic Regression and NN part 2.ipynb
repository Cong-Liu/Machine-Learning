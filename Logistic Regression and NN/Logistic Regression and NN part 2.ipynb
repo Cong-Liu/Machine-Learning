{
 "cells": [
  {
   "cell_type": "markdown",
   "metadata": {},
   "source": [
    "### Read file and choose a 3-class classification"
   ]
  },
  {
   "cell_type": "code",
   "execution_count": 1,
   "metadata": {
    "collapsed": true
   },
   "outputs": [],
   "source": [
    "import numpy as np\n",
    "import pandas as pd\n",
    "from pylab import*"
   ]
  },
  {
   "cell_type": "code",
   "execution_count": 2,
   "metadata": {
    "collapsed": false
   },
   "outputs": [],
   "source": [
    "def rf(cs = 3): #cs: class size\n",
    "    data = np.genfromtxt('mnist_X.txt',delimiter = ' ')\n",
    "    target = np.genfromtxt('mnist_y.txt',delimiter = ' ')\n",
    "    X, y = data / 255.0, target\n",
    "    x = X[y <= cs-1]\n",
    "    y = y[y <= cs-1]\n",
    "    print 'data shape', data.shape\n",
    "    print 'target shape', target.shape\n",
    "    print np.unique(target)\n",
    "    print x.shape\n",
    "    print 'class label:', np.unique(y)\n",
    "    return x,y"
   ]
  },
  {
   "cell_type": "markdown",
   "metadata": {
    "collapsed": true
   },
   "source": [
    "### MLP method"
   ]
  },
  {
   "cell_type": "code",
   "execution_count": 6,
   "metadata": {
    "collapsed": true
   },
   "outputs": [],
   "source": [
    "def sigmoid(X):\n",
    "    # X = np.dot(x,theta.T) : m*n dot n*1 = m *1\n",
    "    h = 1.0 + np.exp(-X)\n",
    "    return 1.0/h\n",
    "\n",
    "def encoding(Y,unit):\n",
    "    size = len(Y)\n",
    "    y = np.zeros((size, unit))\n",
    "    for i in range(size):\n",
    "            y[i][Y[i]] = 1 \n",
    "    return y"
   ]
  },
  {
   "cell_type": "code",
   "execution_count": 7,
   "metadata": {
    "collapsed": false
   },
   "outputs": [],
   "source": [
    "# # test encoding\n",
    "# Y = np.array([0, 1, 2, 1, 1])\n",
    "# y = encoding(Y, 3)\n",
    "# print y"
   ]
  },
  {
   "cell_type": "code",
   "execution_count": 11,
   "metadata": {
    "collapsed": true
   },
   "outputs": [],
   "source": [
    "# K fold\n",
    "def k_fold(size,k, shuffle = False):\n",
    "    index = np.arange(0,size)\n",
    "    if shuffle:\n",
    "        np.random.shuffle(index)\n",
    "    index = np.reshape(index, (k,size/k))\n",
    "#     print index\n",
    "    test = []\n",
    "    train = []\n",
    "    cursor = 0\n",
    "    for i in range(0,k):\n",
    "        test.append(index[i])\n",
    "        temp = np.delete(index,i,0)\n",
    "        train.append(temp.flatten())\n",
    "    return test, train\n",
    "\n",
    "def acc(y,pre):\n",
    "    trnum = 0\n",
    "    size = float(len(y))\n",
    "    tr = np.sum(y == pre)\n",
    "    return tr/size"
   ]
  },
  {
   "cell_type": "code",
   "execution_count": 18,
   "metadata": {
    "collapsed": true
   },
   "outputs": [],
   "source": [
    "def prediction(x,model):\n",
    "    W1, b1, W2, b2 = model['W1'], model['b1'], model['W2'], model['b2']\n",
    "    # Forward propagation\n",
    "    z1 = x.dot(W1) + b1\n",
    "    a1 = sigmoid(z1)\n",
    "    z2 = a1.dot(W2) + b2\n",
    "    predict = sigmoid(z2)\n",
    "    pre = np.argmax(predict,axis=1)\n",
    "    return pre\n",
    "\n",
    "\n",
    "# print 'x.shape', shape(x_t)\n",
    "# print 'y shape', shape(y_t)\n",
    "# v, w  = mlp(x_t,y_t,learning_rate= 0.5,max_iter = 1000)\n",
    "# # print v,w\n",
    "\n",
    "# pre_x_t =  prediction(x_t,model)\n",
    "# print np.shape(pre_x_t)\n",
    "# print pre_x_t\n",
    "# print y_t"
   ]
  },
  {
   "cell_type": "code",
   "execution_count": 23,
   "metadata": {
    "collapsed": false
   },
   "outputs": [],
   "source": [
    "# MLP model\n",
    "def mlp(X, Y, learning_rate = 0.001, hidden_unit = 500, shuffle = False, epsilon = 0.01, \n",
    "        momentum = 0.5, max_iter = 10000):\n",
    "     \n",
    "    # Initialize the parameters to random values. We need to learn these.\n",
    "    (xnum, fnum) = X.shape #(m,n)\n",
    "    cnum = len(np.unique(Y)) # 3\n",
    "    \n",
    "    np.random.seed(0)\n",
    "    W1 = np.random.randn(fnum,hidden_unit) / np.sqrt(fnum)\n",
    "    W2 = np.random.randn(hidden_unit,cnum) / np.sqrt(hidden_unit)\n",
    "\n",
    "    b1 = np.zeros((1, hidden_unit))\n",
    "    b2 = np.zeros((1, cnum))\n",
    "    pre_W1 = W1\n",
    "    pre_W2 = W2\n",
    "    \n",
    "    # encoding y in binery\n",
    "    y = encoding(Y,cnum)\n",
    "    \n",
    "    \n",
    "    # return model\n",
    "    model = {}\n",
    "    \n",
    "    index = np.arange(0,xnum) \n",
    "    if shuffle:\n",
    "        np.random.shuffle(index)\n",
    "    \n",
    "    # SGD\n",
    "    for it in xrange(0, max_iter):\n",
    "        \n",
    "\n",
    "        \n",
    "        # get one example\n",
    "        i = index[it%xnum]\n",
    "        xi = X[i] #1*(n+1)\n",
    "        yi = y[i] # 1*3\n",
    "        \n",
    "        # Forward propagation\n",
    "        z1 = xi.dot(W1) + b1\n",
    "        a1 = sigmoid(z1)\n",
    "        z2 = a1.dot(W2) + b2\n",
    "        pre = sigmoid(z2)\n",
    "\n",
    " \n",
    "        # Backpropagation\n",
    "        delta3 = (pre - yi)\n",
    "        dW2 = (a1.T).dot(delta3)\n",
    "        db2 = np.sum(delta3, axis=0, keepdims=True)\n",
    "        \n",
    "        delta2 = delta3.dot(W2.T) * a1*(1 - a1)\n",
    "        dW1 = np.dot(xi[None].T, delta2)\n",
    "        db1 = np.sum(delta2, axis=0)\n",
    " \n",
    "        # Add momentum to get a faster iteration\n",
    "        dW2 += momentum * pre_W2\n",
    "        dW1 += momentum * pre_W1\n",
    " \n",
    "        # Gradient descent parameter update\n",
    "        W1 += -learning_rate * dW1\n",
    "        b1 += -learning_rate * db1\n",
    "        W2 += -learning_rate * dW2\n",
    "        b2 += -learning_rate * db2\n",
    "        \n",
    "        \n",
    "        # Assign new parameters to the model\n",
    "        model = { 'W1': W1, 'b1': b1, 'W2': W2, 'b2': b2}\n",
    "         \n",
    "        pre_W1 = W1\n",
    "        pre_W2 = W2  \n",
    "        \n",
    "    return model"
   ]
  },
  {
   "cell_type": "markdown",
   "metadata": {},
   "source": [
    "### Evaluate Performance"
   ]
  },
  {
   "cell_type": "code",
   "execution_count": 37,
   "metadata": {
    "collapsed": false
   },
   "outputs": [
    {
     "name": "stdout",
     "output_type": "stream",
     "text": [
      "data shape (70000L, 784L)\n",
      "target shape (70000L,)\n",
      "[ 0.  1.  2.  3.  4.  5.  6.  7.  8.  9.]\n",
      "(21770L, 784L)\n",
      "class label: [ 0.  1.  2.]\n"
     ]
    }
   ],
   "source": [
    "import matplotlib.pyplot as plt\n",
    "%matplotlib inline\n",
    "x,y = rf()"
   ]
  },
  {
   "cell_type": "code",
   "execution_count": 22,
   "metadata": {
    "collapsed": true
   },
   "outputs": [],
   "source": [
    "total = len(y)\n",
    "list_test, list_train = k_fold(total,5,True)\n",
    "i_test = list_test[0]\n",
    "i_train = list_train[0]\n",
    "x_train = x[i_train]\n",
    "y_train = y[i_train]\n",
    "x_test = x[i_test]\n",
    "y_test = y[i_test]"
   ]
  },
  {
   "cell_type": "markdown",
   "metadata": {},
   "source": [
    "### (1) Evaluate accuracy by number of hidden units"
   ]
  },
  {
   "cell_type": "code",
   "execution_count": 26,
   "metadata": {
    "collapsed": false
   },
   "outputs": [
    {
     "name": "stdout",
     "output_type": "stream",
     "text": [
      "Number of hidden units:  10\n",
      "Accuracy is:  0.396417087735\n",
      "Number of hidden units:  20\n",
      "Accuracy is:  0.613688562242\n",
      "Number of hidden units:  50\n",
      "Accuracy is:  0.647450620119\n",
      "Number of hidden units:  100\n",
      "Accuracy is:  0.651814423519\n",
      "Number of hidden units:  150\n",
      "Accuracy is:  0.713596692696\n",
      "Number of hidden units:  200\n",
      "Accuracy is:  0.757464400551\n",
      "Number of hidden units:  250\n",
      "Accuracy is:  0.826596233349\n",
      "Number of hidden units:  300\n",
      "Accuracy is:  0.827055581075\n",
      "Number of hidden units:  400\n",
      "Accuracy is:  0.535829122646\n",
      "Number of hidden units:  600\n",
      "Accuracy is:  0.606798346348\n",
      "Number of hidden units:  800\n",
      "Accuracy is:  0.491272393202\n",
      "Number of hidden units:  1000\n",
      "Accuracy is:  0.355535140101\n"
     ]
    },
    {
     "name": "stderr",
     "output_type": "stream",
     "text": [
      "D:\\Program Files\\Anaconda2\\lib\\site-packages\\ipykernel\\__main__.py:10: DeprecationWarning: using a non-integer number instead of an integer will result in an error in the future\n"
     ]
    },
    {
     "data": {
      "image/png": "[encoded data removed]",
      "text/plain": [
       "<matplotlib.figure.Figure at 0x9f54d908>"
      ]
     },
     "metadata": {},
     "output_type": "display_data"
    }
   ],
   "source": [
    "unit_size = [10, 20, 50, 100, 150, 200, 250, 300, 400, 600, 800, 1000]\n",
    "acclist = []\n",
    "for us in unit_size:\n",
    "    print 'Number of hidden units: ', us\n",
    "    model =  mlp(x_train,y_train, hidden_unit = us, max_iter = 3000)\n",
    "    pre =  prediction(x_test,model)\n",
    "    a = acc(y_test,pre)\n",
    "    print 'Accuracy is: ', a\n",
    "    acclist.append(a)\n",
    "    \n",
    "plt.plot(unit_size, acclist, 'bo-')\n",
    "plt.title(\"# of units in hidden layer vs performance\")\n",
    "plt.xlabel(\"# of units in hidden layer\")\n",
    "plt.ylabel(\"Testing accuracy\")\n",
    "plt.show()"
   ]
  },
  {
   "cell_type": "markdown",
   "metadata": {},
   "source": [
    "### (2) Evaluate performance by the nunber of MLP iterations."
   ]
  },
  {
   "cell_type": "code",
   "execution_count": 27,
   "metadata": {
    "collapsed": false,
    "scrolled": false
   },
   "outputs": [
    {
     "name": "stdout",
     "output_type": "stream",
     "text": [
      "Number of iteration:  10\n",
      "Accuracy is:  0.364492420763\n",
      "Number of iteration:  100\n",
      "Accuracy is:  0.364492420763\n",
      "Number of iteration:  200\n",
      "Accuracy is:  0.661231051906\n",
      "Number of iteration:  400\n",
      "Accuracy is:  0.633210840606\n",
      "Number of iteration:  800\n",
      "Accuracy is:  0.46830500689\n",
      "Number of iteration:  1000\n",
      "Accuracy is:  0.573954983923\n",
      "Number of iteration:  2000\n",
      "Accuracy is:  0.916169039963\n",
      "Number of iteration:  3000\n",
      "Accuracy is:  0.920992191089\n",
      "Number of iteration:  5000\n",
      "Accuracy is:  0.916858061553\n",
      "Number of iteration:  8000\n",
      "Accuracy is:  0.929260450161\n",
      "Number of iteration:  10000\n",
      "Accuracy is:  0.920073495636\n"
     ]
    },
    {
     "name": "stderr",
     "output_type": "stream",
     "text": [
      "D:\\Program Files\\Anaconda2\\lib\\site-packages\\ipykernel\\__main__.py:10: DeprecationWarning: using a non-integer number instead of an integer will result in an error in the future\n"
     ]
    },
    {
     "data": {
      "image/png": "[encoded data removed]",
      "text/plain": [
       "<matplotlib.figure.Figure at 0xbf71d208>"
      ]
     },
     "metadata": {},
     "output_type": "display_data"
    }
   ],
   "source": [
    "Max_iter = [10, 100, 200, 400, 800, 1000, 2000, 3000, 5000, 8000, 10000]\n",
    "acc_iter = []\n",
    "for it in Max_iter:\n",
    "    print 'Number of iteration: ', it\n",
    "    model =  mlp(x_train,y_train, learning_rate = 0.001, hidden_unit = 250, epsilon = 0.01, \n",
    "        momentum = 0.1, max_iter = it)\n",
    "    pre =  prediction(x_test,model)\n",
    "    a = acc(y_test,pre)\n",
    "    print 'Accuracy is: ', a\n",
    "    acc_iter.append(a)\n",
    "    \n",
    "plt.plot(Max_iter, acc_iter, 'ro-')\n",
    "plt.title(\"Number of iteration vs performance\")\n",
    "plt.xlabel(\"Number of iteration\")\n",
    "plt.ylabel(\"Testing accuracy\")\n",
    "plt.show()"
   ]
  },
  {
   "cell_type": "markdown",
   "metadata": {},
   "source": [
    "### (3) Evaluate accuracy by learning rate\n"
   ]
  },
  {
   "cell_type": "code",
   "execution_count": 29,
   "metadata": {
    "collapsed": false,
    "scrolled": false
   },
   "outputs": [
    {
     "name": "stdout",
     "output_type": "stream",
     "text": [
      "Learning rate is 0.0001\n",
      "Accuracy is:  0.517225539734\n",
      "Learning rate is 0.001\n",
      "Accuracy is:  0.916169039963\n",
      "Learning rate is 0.005\n",
      "Accuracy is:  0.933394579697\n",
      "Learning rate is 0.01\n",
      "Accuracy is:  0.93729903537\n",
      "Learning rate is 0.05\n",
      "Accuracy is:  0.932016536518\n",
      "Learning rate is 0.08\n",
      "Accuracy is:  0.937988056959\n",
      "Learning rate is 0.1\n",
      "Accuracy is:  0.924666972898\n",
      "Learning rate is 0.2\n",
      "Accuracy is:  0.911116214975\n",
      "Learning rate is 0.5\n",
      "Accuracy is:  0.615985300873\n",
      "Learning rate is 0.8\n",
      "Accuracy is:  0.314423518604\n"
     ]
    },
    {
     "name": "stderr",
     "output_type": "stream",
     "text": [
      "D:\\Program Files\\Anaconda2\\lib\\site-packages\\ipykernel\\__main__.py:10: DeprecationWarning: using a non-integer number instead of an integer will result in an error in the future\n"
     ]
    },
    {
     "data": {
      "image/png": "[encoded data removed]",
      "text/plain": [
       "<matplotlib.figure.Figure at 0x260be0b8>"
      ]
     },
     "metadata": {},
     "output_type": "display_data"
    }
   ],
   "source": [
    "learning_rate = [0.0001, 0.001, 0.005, 0.01, 0.05, 0.08, 0.1, 0.2, 0.5, 0.8]\n",
    "acc_lr = []\n",
    "for ilr in learning_rate:\n",
    "    print 'Learning rate is', ilr\n",
    "    model =  mlp(x_train,y_train, learning_rate = ilr, hidden_unit = 250, epsilon = 0.01, \n",
    "        momentum = 0.1, max_iter = 2000)\n",
    "    pre =  prediction(x_test,model)\n",
    "    a = acc(y_test,pre)\n",
    "    print 'Accuracy is: ', a\n",
    "    acc_lr.append(a)\n",
    "    \n",
    "plt.plot(learning_rate, acc_lr, 'go-')\n",
    "plt.title(\"Learning rate vs performance\")\n",
    "plt.xlabel(\"Learning rate value\")\n",
    "plt.ylabel(\"Testing accuracy\")\n",
    "plt.show()"
   ]
  },
  {
   "cell_type": "code",
   "execution_count": 32,
   "metadata": {
    "collapsed": false
   },
   "outputs": [
    {
     "name": "stdout",
     "output_type": "stream",
     "text": [
      "Momentum is 0.001\n",
      "Accuracy is:  0.967156637575\n",
      "Momentum is 0.005\n",
      "Accuracy is:  0.966008268259\n",
      "Momentum is 0.01\n",
      "Accuracy is:  0.96531924667\n",
      "Momentum is 0.05\n",
      "Accuracy is:  0.952457510335\n",
      "Momentum is 0.08\n",
      "Accuracy is:  0.944189251263\n",
      "Momentum is 0.1\n",
      "Accuracy is:  0.93729903537\n",
      "Momentum is 0.5\n",
      "Accuracy is:  0.314423518604\n",
      "Momentum is 0.7\n",
      "Accuracy is:  0.314423518604\n",
      "Momentum is 1\n",
      "Accuracy is:  0.314423518604\n"
     ]
    },
    {
     "name": "stderr",
     "output_type": "stream",
     "text": [
      "D:\\Program Files\\Anaconda2\\lib\\site-packages\\ipykernel\\__main__.py:10: DeprecationWarning: using a non-integer number instead of an integer will result in an error in the future\n"
     ]
    },
    {
     "data": {
      "image/png": "[encoded data removed]",
      "text/plain": [
       "<matplotlib.figure.Figure at 0x94dde710>"
      ]
     },
     "metadata": {},
     "output_type": "display_data"
    }
   ],
   "source": [
    "Momentum = [0.001,0.005, 0.01, 0.05, 0.08, 0.1, 0.5, 0.7, 1]\n",
    "m_list = []\n",
    "for im in Momentum:\n",
    "    print 'Momentum is', im\n",
    "    model =  mlp(x_train,y_train, learning_rate = 0.01, hidden_unit = 250, epsilon = 0.01, \n",
    "        momentum = im, max_iter = 2000)\n",
    "    pre =  prediction(x_test,model)\n",
    "    a = acc(y_test,pre)\n",
    "    print 'Accuracy is: ', a\n",
    "    m_list.append(a)\n",
    "    \n",
    "plt.plot(Momentum, m_list, 'ro--')\n",
    "plt.title(\"Momentum vs performance\")\n",
    "plt.xlabel(\"Momentum value\")\n",
    "plt.ylabel(\"Testing accuracy\")\n",
    "plt.show()"
   ]
  },
  {
   "cell_type": "markdown",
   "metadata": {
    "collapsed": false
   },
   "source": [
    "### According to previous test, the best parameters are: \n",
    "learning rate:0.01, \n",
    "iteratioin: 3000, \n",
    "number of hidden layer unit: 250, \n",
    "momentum: 0.001"
   ]
  },
  {
   "cell_type": "markdown",
   "metadata": {
    "collapsed": true
   },
   "source": [
    "### Retrain the our dataset using previous conclution:"
   ]
  },
  {
   "cell_type": "code",
   "execution_count": 33,
   "metadata": {
    "collapsed": false
   },
   "outputs": [
    {
     "name": "stdout",
     "output_type": "stream",
     "text": [
      "Accuracy is:  0.967156637575\n"
     ]
    },
    {
     "name": "stderr",
     "output_type": "stream",
     "text": [
      "D:\\Program Files\\Anaconda2\\lib\\site-packages\\ipykernel\\__main__.py:10: DeprecationWarning: using a non-integer number instead of an integer will result in an error in the future\n"
     ]
    }
   ],
   "source": [
    "model =  mlp(x_train,y_train, learning_rate = 0.01, hidden_unit = 250, epsilon = 0.01, \n",
    "        momentum = 0.001, max_iter = 2000)\n",
    "pre =  prediction(x_test,model)\n",
    "a = acc(y_test,pre)\n",
    "print 'Accuracy is: ', a"
   ]
  },
  {
   "cell_type": "markdown",
   "metadata": {},
   "source": [
    "### Result of using scikit-learn implementation:"
   ]
  },
  {
   "cell_type": "code",
   "execution_count": 36,
   "metadata": {
    "collapsed": false
   },
   "outputs": [
    {
     "name": "stdout",
     "output_type": "stream",
     "text": [
      "Testing accuracy: 0.974965548921\n"
     ]
    }
   ],
   "source": [
    "from sklearn.neural_network import MLPClassifier\n",
    "\n",
    "mlp = MLPClassifier(hidden_layer_sizes=(250,), activation = 'logistic', max_iter=3000, learning_rate_init = 0.01, \n",
    "                    algorithm ='sgd',momentum = 0.001)\n",
    "mlp.fit(x_train, y_train)\n",
    "print \"Testing accuracy:\", mlp.score(x_test, y_test)"
   ]
  },
  {
   "cell_type": "markdown",
   "metadata": {},
   "source": [
    "### The accuracy of my implementation is only 0.003 lower than the implementation using scikit-learn."
   ]
  },
  {
   "cell_type": "code",
   "execution_count": null,
   "metadata": {
    "collapsed": true
   },
   "outputs": [],
   "source": [
    ""
   ]
  }
 ],
 "metadata": {
  "kernelspec": {
   "display_name": "Python 2",
   "language": "python",
   "name": "python2"
  },
  "language_info": {
   "codemirror_mode": {
    "name": "ipython",
    "version": 2.0
   },
   "file_extension": ".py",
   "mimetype": "text/x-python",
   "name": "python",
   "nbconvert_exporter": "python",
   "pygments_lexer": "ipython2",
   "version": "2.7.11"
  }
 },
 "nbformat": 4,
 "nbformat_minor": 0
}