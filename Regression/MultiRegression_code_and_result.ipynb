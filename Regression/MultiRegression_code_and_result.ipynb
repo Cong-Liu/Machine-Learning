{
 "cells": [
  {
   "cell_type": "code",
   "execution_count": 1,
   "metadata": {
    "collapsed": false
   },
   "outputs": [],
   "source": [
    "import SingleVariableRegression as svr\n",
    "import numpy as np\n",
    "from pylab import*"
   ]
  },
  {
   "cell_type": "markdown",
   "metadata": {},
   "source": [
    "Load data"
   ]
  },
  {
   "cell_type": "code",
   "execution_count": 2,
   "metadata": {
    "collapsed": false
   },
   "outputs": [],
   "source": [
    "import pandas as pd\n",
    "def rf(fn):\n",
    "    data = pd.read_csv(fn, skiprows=5, sep=' ', header=None, skipinitialspace=True)\n",
    "    ncol= len(data.columns)-1\n",
    "    x = data.ix[:,:ncol-1]\n",
    "    y = data.ix[:,ncol]\n",
    "    return x,y\n",
    "\n",
    "# x,y = rf('mvar-set4.dat')\n",
    "# print x"
   ]
  },
  {
   "cell_type": "markdown",
   "metadata": {},
   "source": [
    "Map given features to high dimension"
   ]
  },
  {
   "cell_type": "code",
   "execution_count": 3,
   "metadata": {
    "collapsed": false
   },
   "outputs": [],
   "source": [
    "import itertools\n",
    "def combF (x, dim):\n",
    "    z = x\n",
    "    lenX = len(z)\n",
    "    index = np.arange(lenX)\n",
    "    iterable = itertools.combinations_with_replacement(z,dim)\n",
    "    for indx in iterable:\n",
    "        col = 1\n",
    "        for item in indx:\n",
    "            col *= z[item]\n",
    "        lenX += 1\n",
    "        z[lenX] = col\n",
    "    z.columns = range(len(z.columns))\n",
    "    return z\n",
    "\n",
    "# test = combF(x,2)\n",
    "# print test"
   ]
  },
  {
   "cell_type": "code",
   "execution_count": 28,
   "metadata": {
    "collapsed": false
   },
   "outputs": [],
   "source": [
    "def lmdata(filename, dim =1 ):\n",
    "\n",
    "    x,y = rf(filename)\n",
    "    print\n",
    "    print filename, \" :\"\n",
    "    print x.tail(3)\n",
    "    if dim>1:\n",
    "        x1 = combF (x, dim)\n",
    "        print '\\n After mapping: '\n",
    "        print\n",
    "        print filename, \" :\"\n",
    "        print x1.tail(3)\n",
    "    return x,y\n",
    "    "
   ]
  },
  {
   "cell_type": "code",
   "execution_count": null,
   "metadata": {
    "collapsed": false
   },
   "outputs": [],
   "source": [
    "def MultiVari(filename, dim = 1, getFit = False):\n",
    "    \n",
    "    #get high dimensional features\n",
    "    x_p,y_p = rf(filename)\n",
    "    if getFit:\n",
    "        for i in range(1,dim+1):\n",
    "            mapx = combF(x_p, dim)\n",
    "            x_h = np.asarray(x_p)\n",
    "            y_h = np.asarray(y_p)\n",
    "            m_x = np.asarray(mapx)\n",
    "    \n",
    "    # get ndarray that z =[1,x]\n",
    "        z = np.insert(m_x, 0, 1, axis=1)\n",
    "    \n",
    "    #get liner regression and compute test error by MSE\n",
    "\n",
    "        svr.CrossValidation(filename, fit = 1.2,flg = True, ftrs = m_x, lbls = y_h)\n",
    "        if flg:\n",
    "            x = ftrs\n",
    "            y = lbls\n",
    "            L_MSE = np.zeros(fit)\n",
    "        L_RSE = np.zeros(fit)\n",
    "        for i in range(1,fit):\n",
    "            z = trans_X(x,i)\n",
    "            pre_P = prediction(z,y,fited = True)\n",
    "            x_fit = z[:,1:]\n",
    "            err_M, err_R = data_ERR(x_fit,y)\n",
    "            L_RSE[i] = err_R\n",
    "            L_MSE[i] = err_M\n",
    "        n = np.arange(fit)\n",
    "        if not flg:\n",
    "            print ''\n",
    "            draw(x=n,y=L_RSE,c = 'r.-', title = filename, xlabel = 'Factors of features', ylabel = 'RSE')\n",
    "        if flg:\n",
    "            print ''\n",
    "            draw(x=n,y=L_MSE,c = 'b.-', title = filename, xlabel = 'Factors of features', ylabel = 'MSE')"
   ]
  },
  {
   "cell_type": "markdown",
   "metadata": {},
   "source": [
    "### (a) Load the multiple feature data sets, and map them to a higher dimensional feature space using combinations of features."
   ]
  },
  {
   "cell_type": "code",
   "execution_count": 29,
   "metadata": {
    "collapsed": false,
    "scrolled": false
   },
   "outputs": [
    {
     "name": "stdout",
     "output_type": "stream",
     "text": [
      "\n",
      "mvar-set1.dat  :\n",
      "             0         1\n",
      "2497 -2.000000 -0.693878\n",
      "2498 -1.836735  1.020408\n",
      "2499 -0.285714  1.428571\n",
      "\n",
      " After mapping: \n",
      "\n",
      "mvar-set1.dat  :\n",
      "             0         1         2         3         4\n",
      "2497 -2.000000 -0.693878  4.000000  1.387755  0.481466\n",
      "2498 -1.836735  1.020408  3.373594 -1.874219  1.041233\n",
      "2499 -0.285714  1.428571  0.081633 -0.408163  2.040816\n",
      "\n",
      "mvar-set2.dat  :\n",
      "             0         1\n",
      "2497 -1.510204 -1.183673\n",
      "2498 -0.204082  0.693878\n",
      "2499  0.938776 -1.102041\n",
      "\n",
      " After mapping: \n",
      "\n",
      "mvar-set2.dat  :\n",
      "             0         1         2         3         4\n",
      "2497 -1.510204 -1.183673  2.280716  1.787589  1.401083\n",
      "2498 -0.204082  0.693878  0.041649 -0.141608  0.481466\n",
      "2499  0.938776 -1.102041  0.881299 -1.034569  1.214494\n",
      "\n",
      "mvar-set3.dat  :\n",
      "              0         1         2         3         4\n",
      "99997  1.030317  0.529764  0.217960  1.477808  1.502093\n",
      "99998  0.304738 -0.204171 -0.532305  1.171884  1.373679\n",
      "99999 -2.108521 -1.621891  0.386624 -1.336413  2.061276\n",
      "\n",
      " After mapping: \n",
      "\n",
      "mvar-set3.dat  :\n",
      "             0         1         2         3         4         5         6   \\\n",
      "99997  1.030317  0.529764  0.217960  1.477808  1.502093  1.061552  0.545825   \n",
      "99998  0.304738 -0.204171 -0.532305  1.171884  1.373679  0.092865 -0.062219   \n",
      "99999 -2.108521 -1.621891  0.386624 -1.336413  2.061276  4.445860  3.419791   \n",
      "\n",
      "             7         8         9         10        11        12        13  \\\n",
      "99997  0.224568  1.522610  1.547632  0.280650  0.115468  0.782890  0.795756   \n",
      "99998 -0.162213  0.357117  0.418612  0.041686  0.108681 -0.239265 -0.280466   \n",
      "99999 -0.815204  2.817854 -4.346242  2.630530 -0.627061  2.167515 -3.343164   \n",
      "\n",
      "             14        15        16        17        18        19  \n",
      "99997  0.047507  0.322104  0.327397  2.183915  2.219805  2.256285  \n",
      "99998  0.283349 -0.623800 -0.731217  1.373311  1.609792  1.886995  \n",
      "99999  0.149478 -0.516689  0.796938  1.785999 -2.754715  4.248857  \n",
      "\n",
      "mvar-set4.dat  :\n",
      "              0         1         2         3         4\n",
      "99997  0.100052  0.660372  0.094582  1.990282  1.045325\n",
      "99998  1.728606 -2.072254  0.260708  1.696531 -0.090837\n",
      "99999  1.354111 -0.328457  0.911957  0.164039 -1.187587\n",
      "\n",
      " After mapping: \n",
      "\n",
      "mvar-set4.dat  :\n",
      "             0         1         2         3         4         5         6   \\\n",
      "99997  0.100052  0.660372  0.094582  1.990282  1.045325  0.010010  0.066072   \n",
      "99998  1.728606 -2.072254  0.260708  1.696531 -0.090837  2.988079 -3.582111   \n",
      "99999  1.354111 -0.328457  0.911957  0.164039 -1.187587  1.833616 -0.444767   \n",
      "\n",
      "             7         8         9         10        11        12        13  \\\n",
      "99997  0.009463  0.199132  0.104587  0.436092  0.062459  1.314327  0.690304   \n",
      "99998  0.450662  2.932633 -0.157022  4.294235 -0.540254 -3.515642  0.188238   \n",
      "99999  1.234891  0.222128 -1.608124  0.107884 -0.299538 -0.053880  0.390071   \n",
      "\n",
      "             14        15        16        17        18        19  \n",
      "99997  0.008946  0.188245  0.098869  3.961221  2.080492  1.092705  \n",
      "99998  0.067969  0.442299 -0.023682  2.878216 -0.154108  0.008251  \n",
      "99999  0.831666  0.149597 -1.083028  0.026909 -0.194811  1.410362  \n"
     ]
    }
   ],
   "source": [
    "for i in range(1,5):\n",
    "    filename = \"mvar-set\"+str(i)+\".dat\"\n",
    "    lmdata(filename, 2 )"
   ]
  },
  {
   "cell_type": "markdown",
   "metadata": {},
   "source": [
    "#### Load multiple feature datasets, print the last 3 row of both original and maped high dimension feature values (degree = 2)."
   ]
  },
  {
   "cell_type": "markdown",
   "metadata": {},
   "source": [
    "### (b)Perform linear regression in the higher dimensional space. Evaluate different mappings in terms of the testing error they produce. Choose a single model and justify your selection. Compute the mean square error when using the training set and when using the testing set."
   ]
  },
  {
   "cell_type": "code",
   "execution_count": 23,
   "metadata": {
    "collapsed": false
   },
   "outputs": [],
   "source": [
    "def MultiVar(filename, dim = 1):\n",
    "    \n",
    "    #get high dimensional features\n",
    "    x_p,y_p = rf(filename)\n",
    "    if dim>1:\n",
    "        L_MSE = np.zeros(dim+1)\n",
    "        for i in range(1,dim+1):\n",
    "            print 'Dimension: ',i\n",
    "            mapx = combF(x_p, i)\n",
    "            x_h = np.asarray(x_p)\n",
    "            y = np.asarray(y_p)\n",
    "            x = np.asarray(mapx)\n",
    "\n",
    "            pre_P = svr.prediction(x,y)\n",
    "            err_M, err_R = svr.data_ERR(x,y)\n",
    "            L_MSE[i] = err_M\n",
    "            print 'chack MSE: ',err_M\n",
    "        n = np.arange(dim+1)\n",
    "        print 'x: ', shape(n)\n",
    "        print 'LMSE ', shape(L_MSE)\n",
    "        print ''\n",
    "        svr.draw(x=n,y=L_MSE,c = 'b.-', title = filename, xlabel = 'dimentions', ylabel = 'MSE')"
   ]
  },
  {
   "cell_type": "code",
   "execution_count": 24,
   "metadata": {
    "collapsed": false
   },
   "outputs": [
    {
     "name": "stdout",
     "output_type": "stream",
     "text": [
      "Dimension:  1\n",
      "chack MSE:  0.25870289035\n",
      "Dimension:  2\n",
      "chack MSE:  0.258256248391\n",
      "x:  (3L,)\n",
      "LMSE  (3L,)\n",
      "\n"
     ]
    },
    {
     "data": {
      "image/png": "[encoded data removed]",
      "text/plain": [
       "<matplotlib.figure.Figure at 0x89fb240>"
      ]
     },
     "metadata": {},
     "output_type": "display_data"
    },
    {
     "name": "stdout",
     "output_type": "stream",
     "text": [
      "Dimension:  1\n",
      "chack MSE:  0.0199118763348\n",
      "Dimension:  2\n",
      "chack MSE:  0.0199095053892\n",
      "x:  (3L,)\n",
      "LMSE  (3L,)\n",
      "\n"
     ]
    },
    {
     "data": {
      "image/png": "[encoded data removed]",
      "text/plain": [
       "<matplotlib.figure.Figure at 0x9651a90>"
      ]
     },
     "metadata": {},
     "output_type": "display_data"
    },
    {
     "name": "stdout",
     "output_type": "stream",
     "text": [
      "Dimension:  1\n",
      "chack MSE:  0.250743137798\n",
      "Dimension:  2\n",
      "chack MSE:  0.251858027857\n",
      "x:  (3L,)\n",
      "LMSE  (3L,)\n",
      "\n"
     ]
    },
    {
     "data": {
      "image/png": "[encoded data removed]",
      "text/plain": [
       "<matplotlib.figure.Figure at 0x973b550>"
      ]
     },
     "metadata": {},
     "output_type": "display_data"
    },
    {
     "name": "stdout",
     "output_type": "stream",
     "text": [
      "Dimension:  1\n",
      "chack MSE:  0.00418917124746\n",
      "Dimension:  2\n",
      "chack MSE:  0.00388708169952\n",
      "x:  (3L,)\n",
      "LMSE  (3L,)\n",
      "\n"
     ]
    },
    {
     "data": {
      "image/png": "[encoded data removed]",
      "text/plain": [
       "<matplotlib.figure.Figure at 0x9a587b8>"
      ]
     },
     "metadata": {},
     "output_type": "display_data"
    }
   ],
   "source": [
    "for i in range(1,5):\n",
    "    fn = \"mvar-set\"+str(i)+\".dat\"    \n",
    "    MultiVar(fn, dim =2)\n",
    "\n",
    "    \n",
    "\n"
   ]
  },
  {
   "cell_type": "markdown",
   "metadata": {},
   "source": [
    "#### From the forms above, when mapping x to high dimension, all values of linear model MSE are similar. \n",
    "#### Consider with over fitting and stability of predictions, we could find that the best linear model is when factor = 1. "
   ]
  },
  {
   "cell_type": "code",
   "execution_count": null,
   "metadata": {
    "collapsed": true
   },
   "outputs": [],
   "source": []
  }
 ],
 "metadata": {
  "kernelspec": {
   "display_name": "Python 2",
   "language": "python",
   "name": "python2"
  },
  "language_info": {
   "codemirror_mode": {
    "name": "ipython",
    "version": 2
   },
   "file_extension": ".py",
   "mimetype": "text/x-python",
   "name": "python",
   "nbconvert_exporter": "python",
   "pygments_lexer": "ipython2",
   "version": "2.7.11"
  }
 },
 "nbformat": 4,
 "nbformat_minor": 0
}
