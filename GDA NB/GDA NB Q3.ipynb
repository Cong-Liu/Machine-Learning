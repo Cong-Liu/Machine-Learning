{
 "cells": [
  {
   "cell_type": "markdown",
   "metadata": {},
   "source": [
    "# 3. nD k-class Gaussian discriminant analysis\n",
    "\n",
    "### (a) Select a k-class dataset with continuous nD features."
   ]
  },
  {
   "cell_type": "markdown",
   "metadata": {},
   "source": [
    "### (b) Estimate the model parameters and compute a discriminant function based on the distribution in each class."
   ]
  },
  {
   "cell_type": "code",
   "execution_count": 2,
   "metadata": {
    "collapsed": false
   },
   "outputs": [
    {
     "name": "stdout",
     "output_type": "stream",
     "text": [
      "Read iris.data with 4 features and 3 classes.\n",
      "     0    1    2    3  4\n",
      "0  5.1  3.5  1.4  0.2  1\n",
      "1  4.9  3.0  1.4  0.2  1\n",
      "2  4.7  3.2  1.3  0.2  1\n",
      "3  4.6  3.1  1.5  0.2  1\n",
      "4  5.0  3.6  1.4  0.2  1\n",
      "Means of n classes:\n",
      "[[ 5.006  3.418  1.464  0.244]\n",
      " [ 5.936  2.77   4.26   1.326]\n",
      " [ 6.588  2.974  5.552  2.026]]\n",
      "Sigmas of n classes\n",
      "[[[ 0.121764  0.098292  0.015816  0.010336]\n",
      "  [ 0.098292  0.142276  0.011448  0.011208]\n",
      "  [ 0.015816  0.011448  0.029504  0.005584]\n",
      "  [ 0.010336  0.011208  0.005584  0.011264]]\n",
      "\n",
      " [[ 0.261104  0.08348   0.17924   0.054664]\n",
      "  [ 0.08348   0.0965    0.081     0.04038 ]\n",
      "  [ 0.17924   0.081     0.2164    0.07164 ]\n",
      "  [ 0.054664  0.04038   0.07164   0.038324]]\n",
      "\n",
      " [[ 0.396256  0.091888  0.297224  0.048112]\n",
      "  [ 0.091888  0.101924  0.069952  0.046676]\n",
      "  [ 0.297224  0.069952  0.298496  0.047848]\n",
      "  [ 0.048112  0.046676  0.047848  0.073924]]]\n",
      "Alpha:\n",
      "[ 50.  50.  50.]\n"
     ]
    },
    {
     "name": "stderr",
     "output_type": "stream",
     "text": [
      "D:\\Program Files\\Anaconda2\\lib\\site-packages\\ipykernel\\__main__.py:28: DeprecationWarning: using a non-integer number instead of an integer will result in an error in the future\n",
      "D:\\Program Files\\Anaconda2\\lib\\site-packages\\ipykernel\\__main__.py:29: DeprecationWarning: using a non-integer number instead of an integer will result in an error in the future\n"
     ]
    }
   ],
   "source": [
    "import pandas as pd\n",
    "import numpy as np\n",
    "\n",
    "# 3. nD k-class Gaussian discriminant analysis\n",
    "\n",
    "# (a) Select a k-class dataset with continuous nD features.\n",
    "\n",
    "def rf(fn):\n",
    "    data = pd.read_csv(fn, sep=',', header=None, skipinitialspace=True)\n",
    "    return data\n",
    "\n",
    "## (b) Estimate the model parameters and compute a discriminant function based on the distribution in each class.\n",
    "\n",
    "def getPrmtr(train_data,cnum):\n",
    "    fnum = train_data.shape[1]-1\n",
    "    m = np.zeros(cnum)\n",
    "    mean = np.zeros((cnum, fnum))\n",
    "    sigma = np.zeros((cnum, fnum,fnum))\n",
    "    for i in range(0, cnum):\n",
    "        subcls = train_data[train_data[4] == i+1]\n",
    "        x=subcls.loc[:,:3]\n",
    "        m[i] = len(x)\n",
    "        mean[i]=x.mean()\n",
    "    for j in range(0,len(train_data)):\n",
    "        data = train_data.iloc[j]\n",
    "        x = data[:fnum]\n",
    "        y = data[4]\n",
    "        temp = np.outer((x-mean[y-1]),(x-mean[y-1]))\n",
    "        sigma[y-1] += temp/m[y-1]\n",
    "    return (mean, sigma, m ) # a = alphalist\n",
    "\n",
    "fn = 'iris.data'\n",
    "data = rf(fn)\n",
    "print 'Read iris.data with 4 features and 3 classes.'\n",
    "print data.head()\n",
    "temp = getPrmtr(data, 3)\n",
    "print 'Means of n classes:'\n",
    "print temp[0]\n",
    "print 'Sigmas of n classes'\n",
    "print temp[1]\n",
    "print 'Alpha:'\n",
    "print temp[2]"
   ]
  },
  {
   "cell_type": "markdown",
   "metadata": {},
   "source": [
    "### (c) Classify the examples and measure your error. Compute the confusion matrix, precision, recall, F-measure, and accuracy."
   ]
  },
  {
   "cell_type": "code",
   "execution_count": 6,
   "metadata": {
    "collapsed": false
   },
   "outputs": [
    {
     "name": "stdout",
     "output_type": "stream",
     "text": [
      "<type 'list'>\n",
      "confusion matrix is \n",
      "[[  9.   0.   0.]\n",
      " [  0.  11.   0.]\n",
      " [  0.   0.  10.]]\n",
      "result of precision, recall,F-measure, and accuracy are\n",
      "([1.0, 1.0, 1.0], [1.0, 1.0, 1.0], [1.0, 1.0, 1.0], 1.0)\n"
     ]
    },
    {
     "name": "stderr",
     "output_type": "stream",
     "text": [
      "D:\\Program Files\\Anaconda2\\lib\\site-packages\\ipykernel\\__main__.py:28: DeprecationWarning: using a non-integer number instead of an integer will result in an error in the future\n",
      "D:\\Program Files\\Anaconda2\\lib\\site-packages\\ipykernel\\__main__.py:29: DeprecationWarning: using a non-integer number instead of an integer will result in an error in the future\n"
     ]
    }
   ],
   "source": [
    "# K fold\n",
    "def k_fold(size, k, shuffle=False):\n",
    "    index = np.arange(0, size)\n",
    "    if shuffle:\n",
    "        np.random.shuffle(index)\n",
    "    index = np.reshape(index, (k, size / k))\n",
    "    #     print index\n",
    "    test = []\n",
    "    train = []\n",
    "    for i in range(0, k):\n",
    "        test.append(index[i])\n",
    "        temp = np.delete(index, i, 0)\n",
    "        train.append(temp.flatten())\n",
    "    return test, train\n",
    "\n",
    "\n",
    "# calculate the membership for one example x\n",
    "from pylab import *\n",
    "\n",
    "\n",
    "def calcm(x, a, m, s):\n",
    "    ds = det(s)\n",
    "    ins = inv(s)\n",
    "    qf = dot((x - m).T, ins)\n",
    "    g = log(a) - 0.5*log(ds) - 0.5 * np.dot(qf, (x - m))\n",
    "    return g\n",
    "\n",
    "\n",
    "# given a test dataset value, return a list of claasifications\n",
    "def classificaiton(data_test, al, ml, sl):\n",
    "    x_test = data_test.loc[:, :3]\n",
    "    xnum = len(x_test)\n",
    "    cnum = len(al)\n",
    "    prelist = []\n",
    "\n",
    "    for i in range(0, xnum):\n",
    "        ex = x_test.iloc[i]\n",
    "        c = np.zeros(cnum)\n",
    "\n",
    "        for j in range(0, cnum):\n",
    "            c[j] = calcm(ex, al[j], ml[j], sl[j])\n",
    "        # print \"c is\", c\n",
    "        maxi = np.argmax(c)\n",
    "        prelist.append(maxi + 1)\n",
    "    return prelist\n",
    "\n",
    "\n",
    "def cMatrix(testdata, prelist, cnum):\n",
    "    y_test = testdata[4].tolist()\n",
    "    print type(prelist)\n",
    "    cm = np.zeros((cnum, cnum))\n",
    "    # print len(y_test)\n",
    "    for i in range(0, len(y_test)):\n",
    "        rl = y_test[i]\n",
    "        pre = prelist[i]\n",
    "        # print pre,\"test:\",rl\n",
    "        cm[rl - 1][pre - 1] += 1\n",
    "    return cm\n",
    "\n",
    "\n",
    "# Compute the confusion matrix, precision, recall,F-measure, and accuracy\n",
    "def evalpf(cm):\n",
    "    size = cm.shape[0]\n",
    "    precision = []\n",
    "    recall = []\n",
    "    true = 0\n",
    "    fm = []\n",
    "    for i in range(0, size):\n",
    "        tp = cm[i][i]\n",
    "        true += tp\n",
    "        sumcol = cm[:, i].sum()\n",
    "        sumrow = cm[i, :].sum()\n",
    "        pre = tp / sumcol\n",
    "        precision.append(pre)\n",
    "        rec = tp / sumrow\n",
    "        recall.append(rec)\n",
    "        fm.append(2 * pre * rec / (pre + rec))\n",
    "\n",
    "    accuracy = true / cm.sum()\n",
    "    return (precision, recall, fm, accuracy)\n",
    "\n",
    "\n",
    "def clsmain(fn='iris.data', kfold=5, classnum=3, shuffle=True):\n",
    "    data = rf(fn)\n",
    "    total = len(data)\n",
    "    i_test, i_train = k_fold(total, kfold, True)\n",
    "    prelist = []\n",
    "    data_test = data.iloc[i_test[0],]\n",
    "    data_train = data.iloc[i_train[0],]\n",
    "    parms = getPrmtr(data_train, classnum)  # (mean, sigma/mean, m )\n",
    "    trainnum = len(data_train)\n",
    "    alfa = parms[2]/trainnum\n",
    "    y_predict = classificaiton(data_test, alfa, parms[0], parms[1])\n",
    "    cm = cMatrix(data_test, y_predict,3)\n",
    "    print 'confusion matrix is '\n",
    "    print cm\n",
    "    result = evalpf(cm)\n",
    "    print 'result of precision, recall,F-measure, and accuracy are'\n",
    "    print result\n",
    "\n",
    "\n",
    "clsmain()"
   ]
  },
  {
   "cell_type": "markdown",
   "metadata": {},
   "source": [
    "This result shows that testing data fit the predictions perfactly."
   ]
  }
 ],
 "metadata": {
  "kernelspec": {
   "display_name": "Python 2",
   "language": "python",
   "name": "python2"
  },
  "language_info": {
   "codemirror_mode": {
    "name": "ipython",
    "version": 2
   },
   "file_extension": ".py",
   "mimetype": "text/x-python",
   "name": "python",
   "nbconvert_exporter": "python",
   "pygments_lexer": "ipython2",
   "version": "2.7.11"
  }
 },
 "nbformat": 4,
 "nbformat_minor": 0
}
