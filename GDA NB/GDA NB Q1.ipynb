{
 "cells": [
  {
   "cell_type": "code",
   "execution_count": 1,
   "metadata": {
    "collapsed": true
   },
   "outputs": [],
   "source": [
    "import pandas as pd\n",
    "import numpy as np"
   ]
  },
  {
   "cell_type": "markdown",
   "metadata": {},
   "source": [
    "## (a) Select a 2-class dataset with continuous 1D features."
   ]
  },
  {
   "cell_type": "markdown",
   "metadata": {},
   "source": [
    "Read iris.data, modify data to 1D 2-class"
   ]
  },
  {
   "cell_type": "code",
   "execution_count": 2,
   "metadata": {
    "collapsed": true
   },
   "outputs": [],
   "source": [
    "import pandas as pd\n",
    "def rf(fn):\n",
    "    data = pd.read_csv(fn, sep=',', header=None, skipinitialspace=True)\n",
    "    ncol= len(data.columns)-1\n",
    "    mdata = data.loc[0:99, [3, 4]]\n",
    "#     x = mdata.ix[:,:ncol-1]\n",
    "#     y = mdata.ix[:,ncol]\n",
    "#     print x[3].head()\n",
    "#     print y.tail()\n",
    "#     return x,y\n",
    "    return mdata\n",
    "\n",
    "fn = 'iris.data'\n",
    "data = rf(fn)\n",
    "print data.tail()"
   ]
  },
  {
   "cell_type": "markdown",
   "metadata": {},
   "source": [
    "### Tail of the dataset shows as above."
   ]
  },
  {
   "cell_type": "markdown",
   "metadata": {},
   "source": [
    "## (b) Estimate the model parameters and compute a discriminant function based on the distribution in each class."
   ]
  },
  {
   "cell_type": "code",
   "execution_count": 85,
   "metadata": {
    "collapsed": false
   },
   "outputs": [
    {
     "name": "stdout",
     "output_type": "stream",
     "text": [
      "Means of two classes:\n",
      "[ 0.244  1.326]\n",
      "Sigmas of two classes\n",
      "[ 2.30819672  1.44509804]\n"
     ]
    }
   ],
   "source": [
    "# cls is whole dataset, cnum is #of classes in dataset. eg cnum = 2 in q1 q2, cnum = n in q3\n",
    "import numpy as np\n",
    "from pylab import *\n",
    "def getPrmtr(train_data,cnum):\n",
    "    m = np.zeros(cnum)\n",
    "    mean = np.zeros(cnum)\n",
    "    sigma = np.zeros(cnum)\n",
    "    for i in range(0, cnum):\n",
    "        subcls = train_data[train_data[4] == i+1]\n",
    "        x=subcls[3]\n",
    "        m[i] = len(x)\n",
    "        mean[i] = x.mean()\n",
    "        for ex in x:\n",
    "            sigma[i] += (ex-mean[i])**2\n",
    "    return (mean, sigma/mean, m )\n",
    "\n",
    "fn = 'iris.data'\n",
    "data = rf(fn)\n",
    "temp = getPrmtr(data,2)\n",
    "print 'Means of two classes:'\n",
    "print temp[0]\n",
    "print 'Sigmas of two classes'\n",
    "print temp[1]"
   ]
  },
  {
   "cell_type": "code",
   "execution_count": null,
   "metadata": {
    "collapsed": true
   },
   "outputs": [],
   "source": []
  },
  {
   "cell_type": "markdown",
   "metadata": {},
   "source": [
    "## (c) Classify the examples and measure your error. Compute the confusion matrix, precision, recall, F-measure, and accuracy."
   ]
  },
  {
   "cell_type": "code",
   "execution_count": 166,
   "metadata": {
    "collapsed": true
   },
   "outputs": [],
   "source": [
    "# K fold\n",
    "def k_fold(size,k, shuffle = False):\n",
    "    index = np.arange(0,size) \n",
    "    if shuffle:\n",
    "        np.random.shuffle(index)\n",
    "    index = np.reshape(index, (k,size/k))\n",
    "#     print index\n",
    "    test = []     \n",
    "    train = []\n",
    "    cursor = 0\n",
    "    for i in range(0,k):\n",
    "        test.append(index[i])\n",
    "        temp = np.delete(index,i,0)\n",
    "        train.append(temp.flatten())\n",
    "    return test, train"
   ]
  },
  {
   "cell_type": "code",
   "execution_count": 74,
   "metadata": {
    "collapsed": true
   },
   "outputs": [],
   "source": [
    "# calculate the membership for one example x\n",
    "def calcm(x, a, m, s):\n",
    "    g= -0.5*((x-m)**2)/(s**2)-np.log(s)/2+np.log(a)\n",
    "    return g"
   ]
  },
  {
   "cell_type": "code",
   "execution_count": 145,
   "metadata": {
    "collapsed": true
   },
   "outputs": [],
   "source": [
    "# given a test dataset value, return a list of argmax g \n",
    "def classificaiton(data_test,al,ml,sl):\n",
    "    x_test = data_test[3]\n",
    "    prelist = []\n",
    "    for ex in x_test:\n",
    "        c1 = membership = calcm(ex,al[0],ml[0],sl[0])\n",
    "        c2 = membership = calcm(ex,al[1],ml[1],sl[1])\n",
    "        if c1<c2:\n",
    "            prelist.append(2)\n",
    "        else:\n",
    "            prelist.append(1)\n",
    "    return prelist"
   ]
  },
  {
   "cell_type": "code",
   "execution_count": 181,
   "metadata": {
    "collapsed": true
   },
   "outputs": [],
   "source": [
    "# get confusion matrix\n",
    "def cMatrix(testdata,prelist):\n",
    "    y_test= testdata[4].tolist()\n",
    "    cm = np.zeros((2,2))\n",
    "    for i in range(0,len(y_test)):\n",
    "        rl = y_test[i]\n",
    "        pre = prelist[i]\n",
    "        cm[rl-1][pre-1] +=1\n",
    "    return cm"
   ]
  },
  {
   "cell_type": "code",
   "execution_count": 77,
   "metadata": {
    "collapsed": true
   },
   "outputs": [],
   "source": [
    "# Compute the confusion matrix, precision, recall,F-measure, and accuracy\n",
    "def evalpf(cm):\n",
    "    tp = cm[0][0]\n",
    "    fp = cm[0][1]\n",
    "    fn = cm[1][0]\n",
    "    tn = cm[1][1]\n",
    "    precision = tp/(tp+fp)\n",
    "    recall = tp/(tp+fn)\n",
    "    accuracy = (tp+tn)/(tp+tn+fp+fn)\n",
    "    Fm = 2*precision*recall/(precision+recall)\n",
    "    return (precision,recall,Fm,accuracy)"
   ]
  },
  {
   "cell_type": "code",
   "execution_count": 182,
   "metadata": {
    "collapsed": false
   },
   "outputs": [
    {
     "name": "stdout",
     "output_type": "stream",
     "text": [
      "confusion matrix is \n",
      "[[ 10.   0.]\n",
      " [  0.  10.]]\n",
      "result of precision, recall,F-measure, and accuracy are\n",
      "(1.0, 1.0, 1.0, 1.0)\n"
     ]
    }
   ],
   "source": [
    "def clsmain(fn='iris.data', kfold = 5, classnum = 2, shuffle = True):\n",
    "    data = rf(fn)\n",
    "    total = len(data)\n",
    "    i_test, i_train = k_fold(total,kfold,True)\n",
    "    prelist = []\n",
    "    data_test =data.iloc[i_test[0],] \n",
    "    data_train=data.iloc[i_train[0],]\n",
    "    parms = getPrmtr(data_train,classnum)  #(mean, sigma/mean, m )\n",
    "    alfa = parms[2]/total\n",
    "    y_predict = classificaiton(data_test, alfa, parms[0], parms[1])\n",
    "    # y_test = data_test[4]\n",
    "    # print type(y_test)\n",
    "    cm = cMatrix(data_test,y_predict)\n",
    "    print 'confusion matrix is '\n",
    "    print cm\n",
    "    result = evalpf(cm)\n",
    "    print 'result of precision, recall,F-measure, and accuracy are'\n",
    "    print result\n",
    "  \n",
    "clsmain()"
   ]
  },
  {
   "cell_type": "markdown",
   "metadata": {},
   "source": [
    "### This result shows that the membership function classified datas perfectly."
   ]
  },
  {
   "cell_type": "code",
   "execution_count": null,
   "metadata": {
    "collapsed": true
   },
   "outputs": [],
   "source": []
  }
 ],
 "metadata": {
  "kernelspec": {
   "display_name": "Python 2",
   "language": "python",
   "name": "python2"
  },
  "language_info": {
   "codemirror_mode": {
    "name": "ipython",
    "version": 2
   },
   "file_extension": ".py",
   "mimetype": "text/x-python",
   "name": "python",
   "nbconvert_exporter": "python",
   "pygments_lexer": "ipython2",
   "version": "2.7.12"
  }
 },
 "nbformat": 4,
 "nbformat_minor": 0
}
