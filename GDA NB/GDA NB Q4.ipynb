{
 "cells": [
  {
   "cell_type": "code",
   "execution_count": 1,
   "metadata": {
    "collapsed": true
   },
   "outputs": [],
   "source": [
    "import pandas as pd\n",
    "import numpy as np"
   ]
  },
  {
   "cell_type": "markdown",
   "metadata": {},
   "source": [
    "## (a) Select a 2-class dataset with binary nD features. This dataset needs to be derived from text documents."
   ]
  },
  {
   "cell_type": "code",
   "execution_count": 2,
   "metadata": {
    "collapsed": false
   },
   "outputs": [
    {
     "name": "stdout",
     "output_type": "stream",
     "text": [
      "(3276, 1559)\n",
      "Data size is  (3276, 1559)\n",
      "   0     1       2     3     4     5     6     7     8     9     ...   1549  \\\n",
      "3    60   468  7.8000     1     0     0     0     0     0     0  ...      0   \n",
      "4    60   468  7.8000     1     0     0     0     0     0     0  ...      0   \n",
      "5    60   468  7.8000     1     0     0     0     0     0     0  ...      0   \n",
      "6    59   460  7.7966     1     0     0     0     0     0     0  ...      0   \n",
      "7    60   234  3.9000     1     0     0     0     0     0     0  ...      0   \n",
      "\n",
      "   1550  1551  1552  1553  1554  1555  1556  1557  1558  \n",
      "3     0     0     0     0     0     0     0     0     1  \n",
      "4     0     0     0     0     0     0     0     0     1  \n",
      "5     0     0     0     0     0     0     0     0     1  \n",
      "6     0     0     0     0     0     0     0     0     1  \n",
      "7     0     0     0     0     0     0     0     0     1  \n",
      "\n",
      "[5 rows x 1559 columns]\n"
     ]
    }
   ],
   "source": [
    "def rf(fn):\n",
    "    data = pd.read_csv(fn, sep=' ', header=None, skipinitialspace=True,)\n",
    "    mdata = data[3:]\n",
    "    print mdata.shape\n",
    "    return mdata\n",
    "\n",
    "data = rf('ad.data')\n",
    "print 'Data size is ',data.shape\n",
    "print data.head()\n"
   ]
  },
  {
   "cell_type": "markdown",
   "metadata": {},
   "source": [
    "## (b) Estimate the model parameters and compute a discriminant function based on the distribution in each class. Make sure to use the Naive Bayes assumption."
   ]
  },
  {
   "cell_type": "markdown",
   "metadata": {},
   "source": [
    "## (c) Classify the examples and measure your error. Compute the confusion matrix, precision, recall, F-measure, and accuracy.'''\n"
   ]
  },
  {
   "cell_type": "code",
   "execution_count": 3,
   "metadata": {
    "collapsed": false
   },
   "outputs": [
    {
     "name": "stdout",
     "output_type": "stream",
     "text": [
      "(3276, 1559)\n",
      "datashape (2730, 1559)\n",
      "xshape (2730, 1558)\n",
      "yshape (2730L,)\n",
      "Alpha:\n",
      "[ 0.13882784  0.86117216]\n",
      "Alphaj:\n",
      "[[  5.74855643e+01   2.72939633e+02   4.72741811e+00 ...,   8.66141732e-02\n",
      "    4.46194226e-02   7.87401575e-03]\n",
      " [  4.46710582e+01   8.63229919e+01   2.47033901e+00 ...,   2.97492563e-03\n",
      "    5.09987250e-03   1.27496813e-03]]\n",
      "546\n",
      "confusion matrix is \n",
      "[[  77.    0.]\n",
      " [ 469.    0.]]\n",
      "result of precision, recall,F-measure, and accuracy are\n",
      "(1.0, 0.14102564102564102, 0.24719101123595508, 0.14102564102564102)\n"
     ]
    }
   ],
   "source": [
    "# coding=utf-8\n",
    "import pandas as pd\n",
    "import numpy as np\n",
    "\n",
    "\n",
    "# K fold\n",
    "def k_fold(size, k, shuffle = False):\n",
    "    index = np.arange(0,size)\n",
    "    if shuffle:\n",
    "        np.random.shuffle(index)\n",
    "    index = np.reshape(index, (k,size/k))\n",
    "#     print index\n",
    "    test = []\n",
    "    train = []\n",
    "    for i in range(0,k):\n",
    "        test.append(index[i])\n",
    "        temp = np.delete(index,i,0)\n",
    "        train.append(temp.flatten())\n",
    "    return test, train\n",
    "\n",
    "def getParam(train_data):\n",
    "    xnum = train_data.shape[0]\n",
    "    fnum = train_data.shape[1]-1\n",
    "    x = train_data.loc[:,:fnum-1]  #.loc[:,:3]\n",
    "    print 'datashape', train_data.shape\n",
    "    print 'xshape',x.shape\n",
    "    y = train_data[fnum]\n",
    "    print 'yshape',y.shape\n",
    "    alfaj = np.zeros((2,fnum))\n",
    "    alfa = np.zeros(2)\n",
    "    # sumy = y.sum()\n",
    "    # alfa[1] = sumy/xnum\n",
    "    # c0 = y[y == 0]\n",
    "    # alfa[0] = len(c0)/xnum\n",
    "    subc1 = train_data[train_data[fnum] == 1]\n",
    "    subc2 = train_data[train_data[fnum] == 2]\n",
    "    alfa[0] = len(subc1)\n",
    "    alfa[1] = len(subc2)\n",
    "    for i in range(0,fnum):\n",
    "        alfaj[0][i] = subc1[i].sum()\n",
    "        alfaj[1][i] = subc2[i].sum()\n",
    "    # for i in range(0,fnum):\n",
    "    #     t = y.iloc[i]\n",
    "    #     alfaj[t-1] += x[i]\n",
    "    #     alfa[t-1] += 1\n",
    "    for i in range(0,2):\n",
    "        alfaj[i] = (alfaj[i]+1)/(alfa[i]+2)\n",
    "    # print 'alfa shape',alfa.shape\n",
    "    # print 'alfaj shape', alfaj.shape\n",
    "    return alfa/xnum, alfaj\n",
    "\n",
    "\n",
    "def calcm(x,xa,xaj): # x is an example, xa is the alfa of x's class, xaj is also alfaj of that class. so xa is 1*1, xaj is 1*n\n",
    "    g = 0.0\n",
    "    l = len(x)\n",
    "    for i in range(0,l):\n",
    "        g += x[i]*np.log(xaj[i])+(1-x[i])*np.log(1-xaj[i])\n",
    "        # print i\n",
    "    return g+np.log(xa)\n",
    "\n",
    "\n",
    "def classification(test_data, a, aj):\n",
    "    xnum = test_data.shape[0]\n",
    "    fnum = test_data.shape[1]-1\n",
    "    x_test = test_data.loc[:,:fnum-1]\n",
    "    # y_test = test_data[fnum]\n",
    "    prelist = []\n",
    "    for i in range(0, xnum):\n",
    "        ex = x_test.iloc[i]\n",
    "        # print i\n",
    "        c1 =  calcm(ex,a[0],aj[0])\n",
    "        c2 =  calcm(ex,a[1],aj[1])\n",
    "        if c1<c2:\n",
    "            prelist.append(2)\n",
    "        else:\n",
    "            prelist.append(1)\n",
    "    return prelist\n",
    "\n",
    "def cMatrix(test_data,prelist):\n",
    "    fnum = test_data.shape[1]-1\n",
    "    y_test= test_data[fnum].tolist()\n",
    "    cm = np.zeros((2,2))\n",
    "    print len(y_test)\n",
    "    for i in range(0,len(y_test)):\n",
    "        rl = y_test[i]\n",
    "        pre = prelist[i]\n",
    "        cm[rl-1][pre-1] += 1\n",
    "    return cm\n",
    "\n",
    "# Compute the confusion matrix, precision, recall,F-measure, and accuracy\n",
    "def evalpf(cm):\n",
    "    tp = cm[0][0]\n",
    "    fp = cm[0][1]\n",
    "    fn = cm[1][0]\n",
    "    tn = cm[1][1]\n",
    "    precision = tp/(tp+fp)\n",
    "    recall = tp/(tp+fn)\n",
    "    accuracy = (tp+tn)/(tp+tn+fp+fn)\n",
    "    Fm = 2*precision*recall/(precision+recall)\n",
    "    return (precision,recall,Fm,accuracy)\n",
    "\n",
    "if __name__ == \"__main__\":\n",
    "    data = rf('ad.data')\n",
    "    total = len(data)\n",
    "    i_test, i_train = k_fold(total, 6, True)\n",
    "    prelist = []\n",
    "    data_test =data.iloc[i_test[0],]\n",
    "    data_train=data.iloc[i_train[0],]\n",
    "    alfa, alfaj = getParam(data_train)  #(alfa/xnum, alfaj)\n",
    "    print 'Alpha:'\n",
    "    print alfa\n",
    "    print 'Alphaj:'\n",
    "    print alfaj\n",
    "\n",
    "    y_predict = classification(data_test, alfa, alfaj)\n",
    "    cm = cMatrix(data_test,y_predict)\n",
    "    print 'confusion matrix is '\n",
    "    print cm\n",
    "    result = evalpf(cm)\n",
    "    print 'result of precision, recall,F-measure, and accuracy are'\n",
    "    print result\n",
    "\n",
    "\n",
    "\n"
   ]
  },
  {
   "cell_type": "code",
   "execution_count": null,
   "metadata": {
    "collapsed": false
   },
   "outputs": [],
   "source": []
  },
  {
   "cell_type": "code",
   "execution_count": null,
   "metadata": {
    "collapsed": true
   },
   "outputs": [],
   "source": []
  }
 ],
 "metadata": {
  "kernelspec": {
   "display_name": "Python 2",
   "language": "python",
   "name": "python2"
  },
  "language_info": {
   "codemirror_mode": {
    "name": "ipython",
    "version": 2
   },
   "file_extension": ".py",
   "mimetype": "text/x-python",
   "name": "python",
   "nbconvert_exporter": "python",
   "pygments_lexer": "ipython2",
   "version": "2.7.11"
  }
 },
 "nbformat": 4,
 "nbformat_minor": 0
}
