{
 "cells": [
  {
   "cell_type": "code",
   "execution_count": 1,
   "metadata": {
    "collapsed": true
   },
   "outputs": [],
   "source": [
    "import pandas as pd\n",
    "import numpy as np"
   ]
  },
  {
   "cell_type": "markdown",
   "metadata": {},
   "source": [
    "## (a) Select a 2-class dataset with continuous nD features."
   ]
  },
  {
   "cell_type": "code",
   "execution_count": 2,
   "metadata": {
    "collapsed": true
   },
   "outputs": [],
   "source": [
    "# Read iris.data, modify data to nD 2-class\n",
    "\n",
    "def rf(fn):\n",
    "    data = pd.read_csv(fn, sep=',', header=None, skipinitialspace=True)\n",
    "    ncol= len(data.columns)-1\n",
    "    mdata = data.loc[0:99, ]\n",
    "    return mdata"
   ]
  },
  {
   "cell_type": "markdown",
   "metadata": {},
   "source": [
    "## (b) Estimate the model parameters and compute a discriminant function based on the distribution in each class."
   ]
  },
  {
   "cell_type": "code",
   "execution_count": 3,
   "metadata": {
    "collapsed": false
   },
   "outputs": [
    {
     "name": "stdout",
     "output_type": "stream",
     "text": [
      "Read data iris.data\n",
      "     0    1    2    3  4\n",
      "0  5.1  3.5  1.4  0.2  1\n",
      "1  4.9  3.0  1.4  0.2  1\n",
      "2  4.7  3.2  1.3  0.2  1\n",
      "3  4.6  3.1  1.5  0.2  1\n",
      "4  5.0  3.6  1.4  0.2  1\n",
      "Means of two classes:\n",
      "[[ 5.006  3.418  1.464  0.244]\n",
      " [ 5.936  2.77   4.26   1.326]]\n",
      "Sigmas of two classes\n",
      "[[[ 0.121764  0.098292  0.015816  0.010336]\n",
      "  [ 0.098292  0.142276  0.011448  0.011208]\n",
      "  [ 0.015816  0.011448  0.029504  0.005584]\n",
      "  [ 0.010336  0.011208  0.005584  0.011264]]\n",
      "\n",
      " [[ 0.261104  0.08348   0.17924   0.054664]\n",
      "  [ 0.08348   0.0965    0.081     0.04038 ]\n",
      "  [ 0.17924   0.081     0.2164    0.07164 ]\n",
      "  [ 0.054664  0.04038   0.07164   0.038324]]]\n",
      "Alpha:\n",
      "[ 50.  50.]\n"
     ]
    },
    {
     "name": "stderr",
     "output_type": "stream",
     "text": [
      "D:\\Program Files\\Anaconda2\\lib\\site-packages\\ipykernel\\__main__.py:15: DeprecationWarning: using a non-integer number instead of an integer will result in an error in the future\n",
      "D:\\Program Files\\Anaconda2\\lib\\site-packages\\ipykernel\\__main__.py:16: DeprecationWarning: using a non-integer number instead of an integer will result in an error in the future\n"
     ]
    }
   ],
   "source": [
    "def getPrmtr(train_data,cnum):\n",
    "    fnum = train_data.shape[1]-1\n",
    "    m = np.zeros(cnum)\n",
    "    mean = np.zeros((cnum, fnum))\n",
    "    sigma = np.zeros((cnum, fnum,fnum))\n",
    "    for i in range(0, cnum):\n",
    "        subcls = train_data[train_data[4] == i+1]\n",
    "        x=subcls.loc[:,:3]\n",
    "        m[i] = len(x)\n",
    "        mean[i]=x.mean()\n",
    "    for j in range(0,len(train_data)):\n",
    "        data = train_data.iloc[j]\n",
    "        x = data[:fnum]\n",
    "        y = data[4]\n",
    "        temp = np.outer((x-mean[y-1]),(x-mean[y-1]))\n",
    "        sigma[y-1] += temp/m[y-1]\n",
    "    # for i in range(0,cnum):\n",
    "    #     sigma[i] = sigma[i]/m[i]\n",
    "        # t = (x-mean[y-2])\n",
    "        # t1 = np.outer(t,t)\n",
    "        # sigma[y-2] += t1\n",
    "    return (mean, sigma, m ) # a = alphalist\n",
    "\n",
    "\n",
    "    \n",
    "fn = 'iris.data'\n",
    "data = rf(fn)\n",
    "print 'Read data iris.data'\n",
    "print data.head()\n",
    "temp = getPrmtr(data, 2)\n",
    "print 'Means of two classes:'\n",
    "print temp[0]\n",
    "print 'Sigmas of two classes'\n",
    "print temp[1]\n",
    "print 'Alpha:'\n",
    "print temp[2]"
   ]
  },
  {
   "cell_type": "markdown",
   "metadata": {},
   "source": [
    "### (c) Classify the examples and measure your error. Compute the confusion matrix, precision, recall,F-measure, and accuracy."
   ]
  },
  {
   "cell_type": "code",
   "execution_count": 4,
   "metadata": {
    "collapsed": true
   },
   "outputs": [],
   "source": [
    "# K fold\n",
    "def k_fold(size, k, shuffle = False):\n",
    "    index = np.arange(0,size) \n",
    "    if shuffle:\n",
    "        np.random.shuffle(index)\n",
    "    index = np.reshape(index, (k,size/k))\n",
    "#     print index\n",
    "    test = []     \n",
    "    train = []\n",
    "    for i in range(0,k):\n",
    "        test.append(index[i])\n",
    "        temp = np.delete(index,i,0)\n",
    "        train.append(temp.flatten())\n",
    "    return test, train"
   ]
  },
  {
   "cell_type": "code",
   "execution_count": 5,
   "metadata": {
    "collapsed": true
   },
   "outputs": [],
   "source": [
    "# calculate the membership for one example x\n",
    "from pylab import *\n",
    "def calcm(x, a, m, s):\n",
    "    ds = det(s)\n",
    "    ins = inv(s)\n",
    "    qf = dot((x-m).T,ins) \n",
    "    g = log(a)-0.5*log(ds)-0.5*np.dot(qf,(x-m))\n",
    "    return g\n",
    "\n",
    "    # det = np.linalg.det(s)\n",
    "    # inv = np.linalg.inv(s)\n",
    "    # prod = np.dot( (x-m).transpose(), inv )\n",
    "    # t123 =  np.log(a)-0.5*np.dot(prod,(x-m))-np.log(det)"
   ]
  },
  {
   "cell_type": "code",
   "execution_count": 6,
   "metadata": {
    "collapsed": true
   },
   "outputs": [],
   "source": [
    "# given a test dataset value, return a list of claasifications\n",
    "def classificaiton(data_test,al,ml,sl,threshold = 0):\n",
    "    x_test = data_test.loc[:,:3]\n",
    "    xnum = len(x_test)\n",
    "    prelist = []\n",
    "\n",
    "    for i in range(0, xnum):\n",
    "        ex = x_test.iloc[i]\n",
    "        c1 =  calcm(ex,al[0],ml[0],sl[0])\n",
    "        c2 =  calcm(ex,al[1],ml[1],sl[1])\n",
    "        if c1-c2<threshold:\n",
    "            prelist.append(2)\n",
    "        else:\n",
    "            prelist.append(1)\n",
    "    return prelist"
   ]
  },
  {
   "cell_type": "code",
   "execution_count": null,
   "metadata": {
    "collapsed": true
   },
   "outputs": [],
   "source": []
  },
  {
   "cell_type": "code",
   "execution_count": 7,
   "metadata": {
    "collapsed": true
   },
   "outputs": [],
   "source": [
    "def cMatrix(testdata,prelist):\n",
    "    y_test= testdata[4].tolist() \n",
    "    cm = np.zeros((2,2))\n",
    "    for i in range(0,len(y_test)):\n",
    "        rl = y_test[i]\n",
    "        pre = prelist[i]\n",
    "        cm[rl-1][pre-1] +=1\n",
    "    return cm"
   ]
  },
  {
   "cell_type": "code",
   "execution_count": 8,
   "metadata": {
    "collapsed": true
   },
   "outputs": [],
   "source": [
    "# Compute the confusion matrix, precision, recall,F-measure, and accuracy\n",
    "def evalpf(cm):\n",
    "    tp = cm[0][0]\n",
    "    fp = cm[0][1]\n",
    "    fn = cm[1][0]\n",
    "    tn = cm[1][1]\n",
    "    precision = tp/(tp+fp)\n",
    "    recall = tp/(tp+fn)\n",
    "    accuracy = (tp+tn)/(tp+tn+fp+fn)\n",
    "    Fm = 2*precision*recall/(precision+recall)\n",
    "    return (precision,recall,Fm,accuracy)"
   ]
  },
  {
   "cell_type": "code",
   "execution_count": 9,
   "metadata": {
    "collapsed": false
   },
   "outputs": [
    {
     "name": "stdout",
     "output_type": "stream",
     "text": [
      "confusion matrix is \n",
      "[[  7.   0.]\n",
      " [  0.  13.]]\n",
      "result of precision, recall,F-measure, and accuracy are\n",
      "(1.0, 1.0, 1.0, 1.0)\n"
     ]
    },
    {
     "name": "stderr",
     "output_type": "stream",
     "text": [
      "D:\\Program Files\\Anaconda2\\lib\\site-packages\\ipykernel\\__main__.py:15: DeprecationWarning: using a non-integer number instead of an integer will result in an error in the future\n",
      "D:\\Program Files\\Anaconda2\\lib\\site-packages\\ipykernel\\__main__.py:16: DeprecationWarning: using a non-integer number instead of an integer will result in an error in the future\n"
     ]
    }
   ],
   "source": [
    "def clsmain(fn='iris.data', kfold = 5, classnum = 2, shuffle = True):\n",
    "    data = rf(fn)\n",
    "    total = len(data)\n",
    "    i_test, i_train = k_fold(total,kfold,True)\n",
    "    prelist = []\n",
    "    data_test =data.iloc[i_test[0],]\n",
    "    data_train=data.iloc[i_train[0],]\n",
    "    parms = getPrmtr(data_train,classnum)  #(mean, sigma/mean, m )\n",
    "    trainnum = len(data_train)\n",
    "    alfa = parms[2]/trainnum\n",
    "    y_predict = classificaiton(data_test, alfa, parms[0], parms[1])\n",
    "    cm = cMatrix(data_test,y_predict)\n",
    "    print 'confusion matrix is '\n",
    "    print cm\n",
    "    result = evalpf(cm)\n",
    "    print 'result of precision, recall,F-measure, and accuracy are'\n",
    "    print result\n",
    "\n",
    "clsmain()"
   ]
  },
  {
   "cell_type": "markdown",
   "metadata": {},
   "source": [
    "The confusion matrix shows that there are 8 test cases in class 1, and 12 test cases in class 2. Depending on trainning classifier function, all test cases fit the calssifier function."
   ]
  },
  {
   "cell_type": "markdown",
   "metadata": {},
   "source": [
    "## (d) Plot the precision-recall curve and measure the area under curve."
   ]
  },
  {
   "cell_type": "code",
   "execution_count": 14,
   "metadata": {
    "collapsed": true
   },
   "outputs": [],
   "source": [
    "import matplotlib.pyplot as plt\n",
    "%matplotlib inline\n",
    "from sklearn import metrics"
   ]
  },
  {
   "cell_type": "code",
   "execution_count": 18,
   "metadata": {
    "collapsed": false
   },
   "outputs": [
    {
     "name": "stderr",
     "output_type": "stream",
     "text": [
      "D:\\Program Files\\Anaconda2\\lib\\site-packages\\ipykernel\\__main__.py:15: DeprecationWarning: using a non-integer number instead of an integer will result in an error in the future\n",
      "D:\\Program Files\\Anaconda2\\lib\\site-packages\\ipykernel\\__main__.py:16: DeprecationWarning: using a non-integer number instead of an integer will result in an error in the future\n"
     ]
    },
    {
     "data": {
      "image/png": "[encoded data removed]",
      "text/plain": [
       "<matplotlib.figure.Figure at 0x8a81c50>"
      ]
     },
     "metadata": {},
     "output_type": "display_data"
    },
    {
     "name": "stdout",
     "output_type": "stream",
     "text": [
      "Auc 0.444444444444\n"
     ]
    }
   ],
   "source": [
    "def plot(fn='iris.data', kfold = 5, classnum = 2, shuffle = True,threshold = 0):\n",
    "    data = rf(fn)\n",
    "    total = len(data)\n",
    "    i_test, i_train = k_fold(total,kfold,True)\n",
    "    data_test =data.iloc[i_test[0],]\n",
    "    data_train=data.iloc[i_train[0],]\n",
    "    parms = getPrmtr(data_train,classnum)  #(mean, sigma/mean, m )\n",
    "    trainnum = len(data_train)\n",
    "    alfa = parms[2]/trainnum\n",
    "    pnum =len(threshold)\n",
    "    preth = []\n",
    "    result = np.zeros((pnum,4))\n",
    "    for i in range(0,pnum):\n",
    "        p = classificaiton(data_test, alfa, parms[0], parms[1],threshold[i]) #prelist\n",
    "        preth.append(p)\n",
    "        cm = cMatrix(data_test,p)\n",
    "        result[i]= evalpf(cm)  # (precision,recall,Fm,accuracy)\n",
    "\n",
    "    # Plot Precision-Recall curve\n",
    "    px = result[:,0]\n",
    "    py = result[:,1]\n",
    "    plt.plot(px, py, 'bo-', label='Precision-Recall curve')\n",
    "    plt.axis([0.0, 1.2, 0.0, 1.2])\n",
    "    plt.show()\n",
    "    # print auc(result)\n",
    "    area = 0.0\n",
    "\n",
    "    area = metrics.auc(px, py)\n",
    "    print 'Auc', area\n",
    "    \n",
    "th = np.arange(-50,50,1.5)\n",
    "plot(threshold=th)"
   ]
  },
  {
   "cell_type": "markdown",
   "metadata": {},
   "source": [
    "I tried threshold frome(-10,10), (-50,50),(-100,50)and (-50,100), all Prediction-Recall curves look like a line of y = 1.0"
   ]
  },
  {
   "cell_type": "code",
   "execution_count": null,
   "metadata": {
    "collapsed": true
   },
   "outputs": [],
   "source": []
  }
 ],
 "metadata": {
  "kernelspec": {
   "display_name": "Python 2",
   "language": "python",
   "name": "python2"
  },
  "language_info": {
   "codemirror_mode": {
    "name": "ipython",
    "version": 2
   },
   "file_extension": ".py",
   "mimetype": "text/x-python",
   "name": "python",
   "nbconvert_exporter": "python",
   "pygments_lexer": "ipython2",
   "version": "2.7.11"
  }
 },
 "nbformat": 4,
 "nbformat_minor": 0
}
